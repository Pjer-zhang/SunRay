{
 "cells": [
  {
   "cell_type": "code",
   "execution_count": 136,
   "metadata": {},
   "outputs": [],
   "source": [
    "import numpy as np\n",
    "import matplotlib.pyplot as plt\n",
    "import densityModel as dm\n",
    "import torch"
   ]
  },
  {
   "cell_type": "code",
   "execution_count": 137,
   "metadata": {},
   "outputs": [
    {
     "name": "stdout",
     "output_type": "stream",
     "text": [
      "Frequency(MHz) : 102.23384391809843\n"
     ]
    }
   ],
   "source": [
    "verbose =True\n",
    "\n",
    "# initialize\n",
    "photon_N = 10000\n",
    "steps_N = 1000\n",
    "t_delta = 0.001\n",
    "start_r = 1.5 # in solar radii\n",
    "start_theta = 0.0 # in rad\n",
    "start_phi  = 0 # in rad\n",
    "\n",
    "r_Sun = 6.96e10 # [cm]\n",
    "c = 2.998e10    # [cm s^(-1)]\n",
    "c_r=c/r_Sun     # [s^(-1)]\n",
    "\n",
    "f_ratio  = 3\n",
    "density_r = dm.saito77 # [cm^(-3)] \n",
    "# use saito77 for this calculation \n",
    "\n",
    "@torch.enable_grad()\n",
    "def omega_pe_r(r):\n",
    "    # Ne with plasma frequency density relationship\n",
    "    return 8.93e3* (density_r(r))**(0.5) * 2 * np.pi\n",
    "\n",
    "def v_abs(v): # length of the vector\n",
    "    # for torch tensor in shape 3*N\n",
    "    return torch.sqrt(torch.sum(v.pow(2),axis=0))\n",
    "    \n",
    "\n",
    "freq0 = f_ratio * omega_pe_r(start_r)/(2*np.pi)\n",
    "\n",
    "if verbose:\n",
    "    print('Frequency(MHz) : '+str(freq0/1e6))\n",
    "\n",
    "rxx = start_r * np.sin(start_theta) * np.cos(start_phi) * np.ones(photon_N)\n",
    "ryy = start_r * np.sin(start_theta) * np.sin(start_phi) * np.ones(photon_N)\n",
    "rzz = start_r * np.cos(start_theta) * np.ones(photon_N)\n",
    "rr = start_r * np.ones(photon_N)\n",
    "# [r_sun]\n"
   ]
  },
  {
   "cell_type": "code",
   "execution_count": 138,
   "metadata": {},
   "outputs": [],
   "source": [
    "\n",
    "omega0 = freq0*(2*np.pi) # [Hz]\n",
    "kc0 = np.sqrt(omega0**2. - omega_pe_r(rr)**2.)\n",
    "\n",
    "k_mu0  = np.random.uniform(low=0 ,high=1,size=photon_N) # k_z > 0\n",
    "k_phi0 = np.random.uniform(low=0 ,high= 2*np.pi, size=photon_N) # phi in all dir\n",
    "\n",
    "kc_xx = kc0 * np.sqrt(1-k_mu0**2.) * np.cos(k_phi0)\n",
    "kc_yy = kc0 * np.sqrt(1-k_mu0**2.) * np.sin(k_phi0)\n",
    "kc_zz = kc0 * k_mu0\n",
    "\n",
    "r_vec = torch.tensor(np.array([rxx,ryy,rzz]),requires_grad=True)\n",
    "kc_vec = torch.tensor(np.array([kc_xx,kc_yy,kc_zz]))\n",
    "\n",
    "for idx_t in np.arange(steps_N):\n",
    "    rr = v_abs(r_vec)\n",
    "    omega_pe_xyz = omega_pe_r(rr).repeat(3,1) # to be size:3*N \n",
    "    omega_pe_xyz.backward(r_vec*0+1) # for the gradient of omega\n",
    "    domega_pe_dxyz = r_vec.grad.data\n",
    "    \n",
    "    with torch.no_grad(): # update r and k without grad track\n",
    "        dr_dt  = c_r / omega0 *kc_vec\n",
    "        dkc_dt = - omega_pe_xyz/omega0 * domega_pe_dxyz /c_r # maybe wrong not cleared\n",
    "\n",
    "        r_vec += dr_dt*t_delta\n",
    "        kc_vec += dkc_dt*t_delta\n",
    "        \n",
    "        # to conserve the frequency\n",
    "        kc_vec = kc_vec * (np.sqrt(omega0**2. - omega_pe_r(rr)**2.) / v_abs(kc_vec)).repeat(3,1)"
   ]
  },
  {
   "cell_type": "code",
   "execution_count": 139,
   "metadata": {},
   "outputs": [
    {
     "data": {
      "image/png": "[encoded data removed]",
      "text/plain": [
       "<Figure size 432x288 with 1 Axes>"
      ]
     },
     "metadata": {
      "needs_background": "light"
     },
     "output_type": "display_data"
    }
   ],
   "source": [
    "a=plt.hist(r_vec[1,:].detach(),bins=100)"
   ]
  },
  {
   "cell_type": "code",
   "execution_count": 143,
   "metadata": {},
   "outputs": [
    {
     "data": {
      "image/png": "[encoded data removed]",
      "text/plain": [
       "<Figure size 432x288 with 1 Axes>"
      ]
     },
     "metadata": {
      "needs_background": "light"
     },
     "output_type": "display_data"
    }
   ],
   "source": [
    "a=plt.hist(dr_dt[0,:].detach(),bins=100)"
   ]
  },
  {
   "cell_type": "code",
   "execution_count": 141,
   "metadata": {},
   "outputs": [
    {
     "data": {
      "image/png": "[encoded data removed]",
      "text/plain": [
       "<Figure size 432x288 with 1 Axes>"
      ]
     },
     "metadata": {
      "needs_background": "light"
     },
     "output_type": "display_data"
    }
   ],
   "source": [
    "b=plt.hist(v_abs(dr_dt).detach(),100)"
   ]
  },
  {
   "cell_type": "code",
   "execution_count": 130,
   "metadata": {},
   "outputs": [
    {
     "data": {
      "text/plain": [
       "tensor([0.4061, 0.4061, 0.4061,  ..., 0.4061, 0.4061, 0.4062],\n",
       "       dtype=torch.float64)"
      ]
     },
     "execution_count": 130,
     "metadata": {},
     "output_type": "execute_result"
    }
   ],
   "source": [
    "((dr_dt[0,:]**2)+(dr_dt[1,:]**2)+(dr_dt[2,:]**2))**0.5"
   ]
  },
  {
   "cell_type": "code",
   "execution_count": 134,
   "metadata": {},
   "outputs": [
    {
     "data": {
      "text/plain": [
       "tensor([0.2688, 0.2798, 0.2160,  ..., 0.3422, 0.3103, 0.3826],\n",
       "       dtype=torch.float64)"
      ]
     },
     "execution_count": 134,
     "metadata": {},
     "output_type": "execute_result"
    }
   ],
   "source": [
    "dr_dt[2,:]"
   ]
  },
  {
   "cell_type": "code",
   "execution_count": 15,
   "metadata": {},
   "outputs": [
    {
     "data": {
      "text/plain": [
       "0.4307471264367816"
      ]
     },
     "execution_count": 15,
     "metadata": {},
     "output_type": "execute_result"
    }
   ],
   "source": [
    "c_r"
   ]
  },
  {
   "cell_type": "code",
   "execution_count": 149,
   "metadata": {},
   "outputs": [
    {
     "data": {
      "text/plain": [
       "tensor([2.9993e+11, 3.1066e+11, 3.0775e+11,  ..., 3.0796e+11, 3.0070e+11,\n",
       "        3.0106e+11], dtype=torch.float64)"
      ]
     },
     "execution_count": 149,
     "metadata": {},
     "output_type": "execute_result"
    }
   ],
   "source": [
    "dkc_dt[2,:]"
   ]
  },
  {
   "cell_type": "code",
   "execution_count": 146,
   "metadata": {},
   "outputs": [
    {
     "data": {
      "text/plain": [
       "array([6.05617334e+08, 6.05617334e+08, 6.05617334e+08, ...,\n",
       "       6.05617334e+08, 6.05617334e+08, 6.05617334e+08])"
      ]
     },
     "execution_count": 146,
     "metadata": {},
     "output_type": "execute_result"
    }
   ],
   "source": [
    "kc0"
   ]
  },
  {
   "cell_type": "code",
   "execution_count": null,
   "metadata": {},
   "outputs": [],
   "source": []
  }
 ],
 "metadata": {
  "kernelspec": {
   "display_name": "Python 3",
   "language": "python",
   "name": "python3"
  },
  "language_info": {
   "codemirror_mode": {
    "name": "ipython",
    "version": 3
   },
   "file_extension": ".py",
   "mimetype": "text/x-python",
   "name": "python",
   "nbconvert_exporter": "python",
   "pygments_lexer": "ipython3",
   "version": "3.7.3"
  }
 },
 "nbformat": 4,
 "nbformat_minor": 4
}
