{
 "cells": [
  {
   "cell_type": "code",
   "execution_count": 1,
   "metadata": {},
   "outputs": [],
   "source": [
    "import numpy as np \n",
    "import matplotlib.pyplot as plt \n",
    "from sunRay.parameters import c,c_r,R_S  # physics parameters\n",
    "from scipy import integrate\n",
    "\n",
    "\n",
    "from matplotlib import rc\n",
    "#rc('font',**{'family':'sans-serif','sans-serif':['Helvetica']})\n",
    "## for Palatino and other serif fonts use:\n",
    "#rc('font',**{'family':'serif','serif':['Palatino']})\n",
    "rc('text', usetex=True)"
   ]
  },
  {
   "cell_type": "code",
   "execution_count": 2,
   "metadata": {},
   "outputs": [],
   "source": [
    "\n",
    "%load_ext autoreload\n",
    "%autoreload 2"
   ]
  },
  {
   "cell_type": "code",
   "execution_count": 283,
   "metadata": {},
   "outputs": [],
   "source": [
    "\n",
    "#data_set  = np.load('../RUN3/funda/RUN_[eps0.27]_[alpha0.72143].lv1.npz')\n",
    "\n",
    "data_set  = np.load('../RUN3/funda/RUN_[eps0.282]_[alpha0.72143].lv1.npz')\n",
    "#data_set  = np.load('../RUN3/funda/RUN_[eps0.27]_[alpha0.614].lv1.npz')\n",
    "pat='funda'\n",
    "#data_set  = np.load('../RUN3/'+pat+'/RUN_[eps0.102]_[alpha0.15743].lv1.npz')\n",
    "#data_set  = np.load('../RUN3/'+pat+'/RUN_[eps0.354]_[alpha0.15743].lv1.npz')\n",
    "#data_set  = np.load('../RUN3/'+pat+'/RUN_[eps0.102]_[alpha0.802].lv1.npz')\n",
    "data_set  = np.load('../RUN3/'+pat+'/RUN_[eps0.354]_[alpha0.802].lv1.npz')\n",
    "\n",
    "\n",
    "#data_set  = np.load('../RUN3/f105/RUN_[eps0.354]_[alpha0.15743].lv1.npz')\n",
    "\n",
    "#"
   ]
  },
  {
   "cell_type": "code",
   "execution_count": 284,
   "metadata": {},
   "outputs": [
    {
     "data": {
      "text/plain": [
       "['anis',\n",
       " 'asym',\n",
       " 'collect_N',\n",
       " 'epsilon',\n",
       " 'f_ratio',\n",
       " 'freq0',\n",
       " 'k_vec_0',\n",
       " 'k_vec_stat_avail',\n",
       " 'omega0',\n",
       " 'photon_N',\n",
       " 'r_vec_0',\n",
       " 'r_vec_stat_avail',\n",
       " 'start_phi',\n",
       " 'start_r',\n",
       " 'start_theta',\n",
       " 'steps_N',\n",
       " 't_reach_stat_avail',\n",
       " 'tau_stat_avail']"
      ]
     },
     "execution_count": 284,
     "metadata": {},
     "output_type": "execute_result"
    }
   ],
   "source": [
    "dir(data_set.f)"
   ]
  },
  {
   "cell_type": "code",
   "execution_count": 285,
   "metadata": {},
   "outputs": [],
   "source": [
    "# collect the data\n",
    "anis  = data_set.f.anis\n",
    "asym  = data_set.f.asym\n",
    "collect_N  = data_set.f.collect_N\n",
    "epsilon  = data_set.f.epsilon\n",
    "f_ratio  = data_set.f.f_ratio\n",
    "freq0  = data_set.f.freq0\n",
    "k_vec_0  = data_set.f.k_vec_0\n",
    "k_vec_stat_avail  = data_set.f.k_vec_stat_avail\n",
    "omega0  = data_set.f.omega0\n",
    "photon_N  = data_set.f.photon_N\n",
    "r_vec_0  = data_set.f.r_vec_0\n",
    "r_vec_stat_avail  = data_set.f.r_vec_stat_avail\n",
    "start_phi  = data_set.f.start_phi\n",
    "start_r  = data_set.f.start_r\n",
    "start_theta  = data_set.f.start_theta\n",
    "steps_N  = data_set.f.steps_N\n",
    "t_reach_stat_avail  = data_set.f.t_reach_stat_avail\n",
    "tau_stat_avail  = data_set.f.tau_stat_avail"
   ]
  },
  {
   "cell_type": "code",
   "execution_count": 286,
   "metadata": {},
   "outputs": [],
   "source": [
    "# for all params\n",
    "\n",
    "ang_rot_set = np.linspace(0,88,60)\n",
    "\n",
    "#ang_rot = 30\n",
    "#ang_rot = 0\n",
    "\n",
    "# 并行化\n",
    "\n",
    "t_step = 0.005\n",
    "num_t_bins=60\n",
    "num_mu_bins=100\n",
    "\n",
    "offset_collect_xa = np.zeros(ang_rot_set.shape)\n",
    "offset_collect_xb = np.zeros(ang_rot_set.shape)\n",
    "\n",
    "idx=0\n",
    "for ang_rot in ang_rot_set:\n",
    "\n",
    "    # Important !!! rotate the initial point\n",
    "    r_vec_rot,k_vec_rot = raystat.rotateCoordKX(\n",
    "        r_vec_stat_avail,k_vec_stat_avail,-ang_rot*np.pi/180)\n",
    "    r_vec0_rot,k_vec0_rot = raystat.rotateCoordKX(\n",
    "        r_vec_0,k_vec_0,-ang_rot*np.pi/180)\n",
    "\n",
    "    (x_im_stat,y_im_stat,t_reach_1au_stat,weights_stat,t_free_stat\n",
    "        )=raystat.ImgXYtEstimate(r_vec_rot,k_vec_rot,t_reach_stat_avail,\n",
    "                tau_stat_avail,r_vec0_rot, k_vec0_rot,num_t_bins=60)\n",
    "\n",
    "    x_0,y_0=np.mean(r_vec0_rot,axis=1)[0:2]\n",
    "\n",
    "    (xc,yc,sx,sy,\n",
    "     err_xc,err_yc,err_sx,err_sy) = raystat.centroidXYFWHM(\n",
    "                x_im_stat,y_im_stat,weights_stat)\n",
    "    \n",
    "    offset_collect_xa[idx] = xc-x_0\n",
    "    \n",
    "    idx=idx+1\n"
   ]
  },
  {
   "cell_type": "code",
   "execution_count": 287,
   "metadata": {},
   "outputs": [
    {
     "data": {
      "text/plain": [
       "[<matplotlib.lines.Line2D at 0x7fe63c904210>]"
      ]
     },
     "execution_count": 287,
     "metadata": {},
     "output_type": "execute_result"
    },
    {
     "data": {
      "image/png": "[encoded data removed]",
      "text/plain": [
       "<Figure size 432x288 with 1 Axes>"
      ]
     },
     "metadata": {
      "needs_background": "light"
     },
     "output_type": "display_data"
    }
   ],
   "source": [
    "plt.plot(np.sin(ang_rot_set/180*np.pi),offset_collect_xa,'c')"
   ]
  },
  {
   "cell_type": "code",
   "execution_count": 269,
   "metadata": {},
   "outputs": [
    {
     "name": "stdout",
     "output_type": "stream",
     "text": [
      "\u001b[0m\u001b[01;32mautograd_test2.ipynb\u001b[0m*          \u001b[01;32mray_shape.png\u001b[0m*\n",
      "\u001b[01;32mautograd_test.ipynb\u001b[0m*           \u001b[01;32mray_statistical.ipynb\u001b[0m*\n",
      "\u001b[34;42mbenchmark\u001b[0m/                     \u001b[01;32mray_test_prototype_non_scat.ipynb\u001b[0m*\n",
      "\u001b[01;32melectron_density.png\u001b[0m*          \u001b[01;32mray_test_validate_refrac.ipynb\u001b[0m*\n",
      "\u001b[01;32mf35MHz20deg.png\u001b[0m*               \u001b[01;32mREADME.md\u001b[0m*\n",
      "\u001b[01;32mgaussianFit2d.py\u001b[0m*              \u001b[01;32mrequirements.txt\u001b[0m*\n",
      "\u001b[01;34mimg\u001b[0m/                           \u001b[01;32msimulation_result_v001.pdf\u001b[0m*\n",
      "\u001b[01;34mmoviedir\u001b[0m/                      \u001b[01;32msimulation_result_v001.png\u001b[0m*\n",
      "\u001b[01;32mmpi_job_sbatch_harmo.sh\u001b[0m*       \u001b[34;42msunRay\u001b[0m/\n",
      "\u001b[01;32mmpi_job_sbatch.sh\u001b[0m*             \u001b[01;32msunRay_MPI_harmo.py\u001b[0m*\n",
      "parsetRUN3.funda.rot30.v1.npz  \u001b[01;32msunRay_MPI.py\u001b[0m*\n",
      "parsetRUN3.funda.rot45.v1.npz  sunray_offset.ipynb\n",
      "parsetRUN3.funda.rot60.v1.npz  \u001b[01;32msunray_ParsetReduction.py\u001b[0m*\n",
      "parsetRUN3.harmo.rot30.v1.npz  \u001b[01;32msunRay_SingleNodeMP.py\u001b[0m*\n",
      "parsetRUN3.harmo.rot60.v1.npz  \u001b[01;32msunray_test_lv1_data.ipynb\u001b[0m*\n",
      "parsetRUN3.harmo.v1.npz        \u001b[01;32msunRay_tmp.py\u001b[0m*\n",
      "parsetRUN3.v1.npz              \u001b[01;32mtest_case_1000.png\u001b[0m*\n",
      "parset.v1.npz                  \u001b[01;35mtest_movie.png\u001b[0m\n",
      "\u001b[01;32mray_scat_test.ipynb\u001b[0m*           \u001b[34;42musefulBashScript\u001b[0m/\n"
     ]
    }
   ],
   "source": [
    "ls"
   ]
  },
  {
   "cell_type": "code",
   "execution_count": null,
   "metadata": {},
   "outputs": [],
   "source": []
  },
  {
   "cell_type": "code",
   "execution_count": 89,
   "metadata": {},
   "outputs": [],
   "source": [
    "import sunRay.statisticalRays as raystat"
   ]
  },
  {
   "cell_type": "code",
   "execution_count": 261,
   "metadata": {},
   "outputs": [],
   "source": [
    "angrotstr='30'"
   ]
  },
  {
   "cell_type": "code",
   "execution_count": 262,
   "metadata": {},
   "outputs": [
    {
     "data": {
      "image/png": "[encoded data removed]",
      "text/plain": [
       "<Figure size 360x324 with 2 Axes>"
      ]
     },
     "metadata": {
      "needs_background": "light"
     },
     "output_type": "display_data"
    }
   ],
   "source": [
    "import numpy as np\n",
    "data_par  = np.load('parsetRUN3.harmo.rot'+angrotstr+'.v1.npz')\n",
    "\n",
    "res = (data_par.f.arr_0)\n",
    "\n",
    "arr_eps   = np.linspace(0.03,0.45,36)    \n",
    "arr_alpha = np.linspace(0.05,0.99,36)\n",
    "\n",
    "\n",
    "from scipy.ndimage.filters import gaussian_filter\n",
    "sigma=0.4\n",
    "#data = gaussian_filter(data, sigma)\n",
    "\n",
    "plt.figure(figsize=[5,4.5])\n",
    "\n",
    "plt.imshow(res[3].T,origin='lower',\n",
    "           extent=[np.min(arr_eps),np.max(arr_eps),np.min(arr_alpha),np.max(arr_alpha)],\n",
    "          cmap='RdBu_r',vmax=np.max(res[3]),vmin=-np.max(res[3]))#,vmax=7,vmin=0)\n",
    "cbar = plt.colorbar()\n",
    "cbar.ax.set_title('Offset $R_s$')\n",
    "\n",
    "ax = plt.gca()\n",
    "\n",
    "CS = ax.contour(arr_eps,arr_alpha,gaussian_filter(res[3].T,sigma),[-0.2,-0.1,-0.05,0.0,0.05,0.1,0.2],colors=['k'],linewidths =0.5)\n",
    "ax.clabel(CS,  CS.levels,  inline=True,  fontsize=10,fmt=r'%1.2f $R_s$')\n",
    "ax.clabel(CS0, CS0.levels, inline=True,  fontsize=10,fmt=r'%1.2f $R_s$')\n",
    "\n",
    "ax.set_xlabel(r'Fluctuation Variance $(\\epsilon)$',fontsize=15)\n",
    "ax.set_ylabel(r'Anisotropy Paramater $(\\alpha)$',fontsize=15)\n",
    "\n",
    "ax.set_aspect(1/2)\n",
    "ax.set_title(r'$f_0=35MHz \\quad f_0/f_{pe}=2.0\\quad \\theta _0='+angrotstr+'^{\\circ}$')\n",
    "fig = plt.gcf()\n",
    "\n",
    "fig.savefig('img/offset_harmo'+angrotstr+'.pdf')\n",
    "#plt.gca().set_xticks(range(len(arr_eps)))\n",
    "#plt.gca().set_yticks(range(len(arr_eps)))\n",
    "#plt.gca().set_yticklabels(arr_alpha)\n",
    "#plt.gca().set_xticklabels(np.round(arr_eps*100))\n",
    "\n"
   ]
  },
  {
   "cell_type": "code",
   "execution_count": 263,
   "metadata": {},
   "outputs": [
    {
     "data": {
      "image/png": "[encoded data removed]",
      "text/plain": [
       "<Figure size 360x324 with 2 Axes>"
      ]
     },
     "metadata": {
      "needs_background": "light"
     },
     "output_type": "display_data"
    }
   ],
   "source": [
    "import numpy as np\n",
    "data_par  = np.load('parsetRUN3.funda.rot'+angrotstr+'.v1.npz')\n",
    "res = data_par.f\n",
    "\n",
    "res = (data_par.f.arr_0)\n",
    "\n",
    "arr_eps   = np.linspace(0.03,0.45,36)    \n",
    "arr_alpha = np.linspace(0.05,0.99,36)\n",
    "\n",
    "\n",
    "from scipy.ndimage.filters import gaussian_filter\n",
    "sigma=0.5\n",
    "#data = gaussian_filter(data, sigma)\n",
    "\n",
    "plt.figure(figsize=[5,4.5])\n",
    "\n",
    "\n",
    "plt.imshow(res[3].T,origin='lower',\n",
    "           extent=[np.min(arr_eps),np.max(arr_eps),np.min(arr_alpha),np.max(arr_alpha)],\n",
    "          cmap='RdBu_r',vmax=np.nanmax(res[3]),vmin=-np.nanmax(res[3]))#,vmax=7,vmin=0)\n",
    "cbar = plt.colorbar()\n",
    "cbar.ax.set_title('Offset $R_s$')\n",
    "\n",
    "ax = plt.gca()\n",
    "\n",
    "CS = ax.contour(arr_eps,arr_alpha,gaussian_filter(res[3].T,sigma),[-0.05,0.0,0.05,0.1,0.2,0.3,0.4],colors=['k'],linewidths =0.5)\n",
    "ax.clabel(CS,  CS.levels,  inline=True,  fontsize=10,fmt=r'%1.2f $R_s$')\n",
    "ax.clabel(CS0, CS0.levels, inline=True,  fontsize=10,fmt=r'%1.2f $R_s$')\n",
    "\n",
    "ax.set_xlabel(r'Fluctuation Variance $(\\epsilon)$',fontsize=15)\n",
    "ax.set_ylabel(r'Anisotropy Paramater $(\\alpha)$',fontsize=15)\n",
    "\n",
    "ax.set_aspect(1/2)\n",
    "ax.set_title(r'$f_0=35MHz \\quad f_0/f_{pe}=1.1\\quad \\theta _0='+angrotstr+'^{\\circ}$')\n",
    "fig = plt.gcf()\n",
    "\n",
    "fig.savefig('img/offset_funda'+angrotstr+'.pdf')"
   ]
  },
  {
   "cell_type": "code",
   "execution_count": 226,
   "metadata": {},
   "outputs": [
    {
     "data": {
      "image/png": "[encoded data removed]",
      "text/plain": [
       "<Figure size 360x324 with 2 Axes>"
      ]
     },
     "metadata": {
      "needs_background": "light"
     },
     "output_type": "display_data"
    }
   ],
   "source": [
    "import numpy as np\n",
    "data_par  = np.load('parsetRUN3.harmo.rot30.v1.npz',allow_pickle=True)\n",
    "\n",
    "res = (data_par.f.arr_0)\n",
    "\n",
    "arr_eps   = np.linspace(0.03,0.45,36)    \n",
    "arr_alpha = np.linspace(0.05,0.99,36)\n",
    "\n",
    "res_cur = res[10]\n",
    "#res_cur = np.abs(res_cur)\n",
    "\n",
    "imlim = np.nanmax([np.nanmax(res_cur),np.nanmax(-res_cur)])\n",
    "\n",
    "mask = np.isnan(res_cur)\n",
    "res_cur[mask] = np.interp(np.flatnonzero(mask), np.flatnonzero(~mask), res_cur[~mask])\n",
    "\n",
    "from scipy.ndimage.filters import gaussian_filter\n",
    "sigma=0.5\n",
    "#data = gaussian_filter(data, sigma)\n",
    "\n",
    "plt.figure(figsize=[5,4.5])\n",
    "\n",
    "plt.imshow(res_cur.T,origin='lower',\n",
    "           extent=[np.min(arr_eps),np.max(arr_eps),np.min(arr_alpha),np.max(arr_alpha)],\n",
    "          cmap='RdBu_r',vmax=imlim,vmin=-imlim)#,vmax=7,vmin=0)\n",
    "cbar = plt.colorbar()\n",
    "cbar.ax.set_title('Offset $R_s$')\n",
    "\n",
    "ax = plt.gca()\n",
    "\n",
    "CS = ax.contour(arr_eps,arr_alpha,gaussian_filter(res_cur.T,sigma),[-0.05,0.0,0.05,0.1,0.2],colors=['k'],linewidths =0.5)\n",
    "ax.clabel(CS,  CS.levels,  inline=True,  fontsize=10,fmt=r'%1.2f $R_s$')\n",
    "\n",
    "ax.set_xlabel(r'Fluctuation Variance $(\\epsilon)$',fontsize=15)\n",
    "ax.set_ylabel(r'Anisotropy Paramater $(\\alpha)$',fontsize=15)\n",
    "\n",
    "ax.set_aspect(1/2)\n",
    "ax.set_title(r'$f_0=35MHz \\quad f_0/f_{pe}=1.0\\quad \\theta _0=30^{\\circ}$')\n",
    "fig = plt.gcf()\n",
    "\n",
    "fig.savefig('img/offset_funda_ab.pdf')"
   ]
  },
  {
   "cell_type": "code",
   "execution_count": 179,
   "metadata": {},
   "outputs": [
    {
     "data": {
      "text/plain": [
       "array([0.19262138, 0.18693854, 0.18988993, 0.19353667, 0.19039928,\n",
       "       0.18515825, 0.18761263, 0.17891698, 0.1874522 , 0.17857707,\n",
       "       0.17855407, 0.17388438, 0.17034846, 0.17797953, 0.17574238,\n",
       "       0.1699808 , 0.16098658, 0.17125967, 0.1650603 , 0.16662336,\n",
       "       0.15543766, 0.16140749, 0.15555632, 0.16246926, 0.1647884 ,\n",
       "       0.16479028, 0.1692065 , 0.17645998, 0.17400294, 0.17348526,\n",
       "       0.18573359, 0.15836164, 0.17482886, 0.18186018, 0.17336993,\n",
       "       0.15512792])"
      ]
     },
     "execution_count": 179,
     "metadata": {},
     "output_type": "execute_result"
    }
   ],
   "source": [
    "data_par.f.arr_0[0][0]\n"
   ]
  },
  {
   "cell_type": "code",
   "execution_count": 163,
   "metadata": {},
   "outputs": [
    {
     "data": {
      "text/plain": [
       "array([[False, False, False, ..., False, False, False],\n",
       "       [False, False, False, ..., False, False, False],\n",
       "       [False, False, False, ..., False,  True, False],\n",
       "       ...,\n",
       "       [False, False, False, ..., False,  True,  True],\n",
       "       [False, False, False, ..., False, False, False],\n",
       "       [False, False, False, ..., False, False,  True]])"
      ]
     },
     "execution_count": 163,
     "metadata": {},
     "output_type": "execute_result"
    }
   ],
   "source": [
    "mask"
   ]
  },
  {
   "cell_type": "markdown",
   "metadata": {},
   "source": []
  },
  {
   "cell_type": "code",
   "execution_count": null,
   "metadata": {},
   "outputs": [],
   "source": []
  },
  {
   "cell_type": "code",
   "execution_count": null,
   "metadata": {},
   "outputs": [],
   "source": []
  },
  {
   "cell_type": "code",
   "execution_count": 29,
   "metadata": {},
   "outputs": [
    {
     "data": {
      "image/png": "[encoded data removed]",
      "text/plain": [
       "<Figure size 288x288 with 3 Axes>"
      ]
     },
     "metadata": {
      "needs_background": "light"
     },
     "output_type": "display_data"
    }
   ],
   "source": [
    "#hst = plt.hist2d(x_im_stat,y_im_stat,bins=[np.linspace(-2,2,100),np.linspace(-2,2,100)],weights=np.exp(-tau_stat))\n",
    "#plt.axis('equal')\n",
    "from sunRay.showPlot import XYDistributionImageHist\n",
    "\n",
    "x_0,y_0=np.mean(r_vec0_rot,axis=1)[0:2]\n",
    "\n",
    "fig,ax=XYDistributionImageHist(x_im_stat,y_im_stat,bins_data=np.linspace(-2.5,2.5,120)\n",
    "            ,weights_data=weights_stat)\n",
    "\n",
    "ax.plot(x_0,y_0,'+',color='C2',mew=2,markersize=8)\n",
    "\n",
    "fig.savefig('img/xydist.pdf')\n"
   ]
  },
  {
   "cell_type": "code",
   "execution_count": 36,
   "metadata": {
    "tags": []
   },
   "outputs": [
    {
     "name": "stdout",
     "output_type": "stream",
     "text": [
      "Total duration : 0.31275554781242954\n",
      "Duration R/D : [0.10215 0.21061]\n",
      "Vx R/D : 0.51157 , 0.36982\n",
      "Vx R/D (c) : 1.18763 , 0.85855\n",
      "Vy R/D : 0.01743 , 0.05817\n",
      "Vy R/D (c) : 0.04047 , 0.13504\n",
      "ERx R/D : 0.27789 , 0.06896\n",
      "ERx R/D (Deg) : 0.14821 , 0.03678\n",
      "ERx R/D : 0.77123 , 0.64408\n",
      "ERx R/D (Deg) : 0.41132 , 0.34351\n",
      "Offset R/D  x: 0.205442 , 0.274519\n",
      "Offset R/D  y: 0.006684 , -0.002874\n"
     ]
    },
    {
     "data": {
      "text/plain": [
       "[0.2054420528743416,\n",
       " 0.2745191649827495,\n",
       " 0.006684012179903192,\n",
       " -0.0028744260166772735]"
      ]
     },
     "execution_count": 36,
     "metadata": {},
     "output_type": "execute_result"
    },
    {
     "data": {
      "image/png": "[encoded data removed]",
      "text/plain": [
       "<Figure size 270x360 with 3 Axes>"
      ]
     },
     "metadata": {
      "needs_background": "light"
     },
     "output_type": "display_data"
    }
   ],
   "source": [
    "from sunRay.showPlot import XYVariationPlot,MuVariationPlot\n",
    "\n",
    "res=XYVariationPlot(x_im_stat,y_im_stat,t_reach_1au_stat,weights_stat,num_t_bins = 140,x_0=x_0,y_0=y_0,offset=True)\n",
    "res[0].savefig('img/varXYt.pdf')\n",
    "\n",
    "\n",
    "res[3]['offset']\n",
    "#print the variation make a table #TODO\n",
    "# offset\n",
    "# 140 in paper"
   ]
  },
  {
   "cell_type": "code",
   "execution_count": 31,
   "metadata": {},
   "outputs": [
    {
     "name": "stdout",
     "output_type": "stream",
     "text": [
      "0.25796468146744167 -0.00013435088106069338 0.3033694256940134 0.5914275959204888\n"
     ]
    }
   ],
   "source": [
    "(xc,yc,sx,sy,err_xc,err_yc,err_sx,err_sy\n",
    "    ) = raystat.centroidXYFWHM(x_im_stat,y_im_stat,weights_stat)\n",
    "\n",
    "print(xc-x_0,yc-y_0,sx,sy)"
   ]
  },
  {
   "cell_type": "code",
   "execution_count": 13,
   "metadata": {},
   "outputs": [
    {
     "data": {
      "text/plain": [
       "204.99999998294135"
      ]
     },
     "execution_count": 13,
     "metadata": {},
     "output_type": "execute_result"
    }
   ],
   "source": [
    "np.mean(np.sqrt(np.sum(r_vec_stat_avail**2,axis=0)))"
   ]
  },
  {
   "cell_type": "code",
   "execution_count": 14,
   "metadata": {},
   "outputs": [
    {
     "data": {
      "image/png": "[encoded data removed]",
      "text/plain": [
       "<Figure size 309.6x206.4 with 2 Axes>"
      ]
     },
     "metadata": {
      "needs_background": "light"
     },
     "output_type": "display_data"
    }
   ],
   "source": [
    "\n",
    "(fig,ax1,ax2)=MuVariationPlot(k_vec_stat_avail,t_reach_stat_avail,\n",
    "                              np.exp(-tau_stat_avail),t_step = 0.05,\n",
    "                    num_t_bins=100,num_mu_bins=80)\n",
    "\n",
    "ax1.set_title(r'$f_0/f_{pe}=$'+str(np.round(f_ratio,3))+r'\\quad'+\n",
    "              r'$\\epsilon='+str(np.round(epsilon,3))+r'\\quad \\alpha='+\n",
    "              str(np.round(anis,3))+'$')\n",
    "\n",
    "fig.savefig('img/'+pat+'_eps'+str(np.round(epsilon,3))+'a'+str(np.round(anis,3))+'.pdf')"
   ]
  },
  {
   "cell_type": "code",
   "execution_count": 342,
   "metadata": {},
   "outputs": [
    {
     "data": {
      "text/plain": [
       "0.09374743948680511"
      ]
     },
     "execution_count": 342,
     "metadata": {},
     "output_type": "execute_result"
    }
   ],
   "source": [
    "np.sum(np.exp(-tau_stat_avail))/3e6\n"
   ]
  },
  {
   "cell_type": "code",
   "execution_count": 12,
   "metadata": {},
   "outputs": [
    {
     "data": {
      "image/png": "[encoded data removed]",
      "text/plain": [
       "<Figure size 432x288 with 1 Axes>"
      ]
     },
     "metadata": {
      "needs_background": "light"
     },
     "output_type": "display_data"
    }
   ],
   "source": [
    "# make a movie\n",
    "if False:\n",
    "    from sunRay import showPlot as sp\n",
    "    x0,y0=np.mean(r_vec0_rot,axis=1)[0],np.mean(r_vec0_rot,axis=1)[1]\n",
    "    fr_cur=sp.MovieVariationXY(x_im_stat,y_im_stat,t_reach_1au_stat,weights_stat,t_step = 0.2,\n",
    "                               num_t_bins=-1,xlim=[0,2],ylim=[-1,1],x_0=x0,y_0=y0,\n",
    "                               title_this=r'$f_0/f_{pe}=$'+str(np.round(f_ratio,3))+r'\\quad'+\n",
    "                  r'$\\epsilon='+str(np.round(epsilon,3))+r'\\quad \\alpha='+\n",
    "                  str(np.round(anis,3))+r'\\quad\\theta_0='+str(np.round(ang_rot,3))+'$')\n",
    "    #plt.gca().set_clim([0,1])\n",
    "    #fr_cur.savefig('test_movie.png')"
   ]
  },
  {
   "cell_type": "code",
   "execution_count": 13,
   "metadata": {},
   "outputs": [
    {
     "data": {
      "text/plain": [
       "array([204.99999343, 204.99999749, 205.00000024, ..., 205.0000037 ,\n",
       "       205.00000963, 204.99999017])"
      ]
     },
     "execution_count": 13,
     "metadata": {},
     "output_type": "execute_result"
    }
   ],
   "source": [
    "np.sqrt(np.sum(r_vec_stat_avail**2,axis=0))"
   ]
  },
  {
   "cell_type": "code",
   "execution_count": 14,
   "metadata": {},
   "outputs": [
    {
     "data": {
      "text/plain": [
       "3"
      ]
     },
     "execution_count": 14,
     "metadata": {},
     "output_type": "execute_result"
    }
   ],
   "source": [
    "k_vec_stat_avail.shape[0]"
   ]
  },
  {
   "cell_type": "code",
   "execution_count": 15,
   "metadata": {},
   "outputs": [
    {
     "data": {
      "text/plain": [
       "(array([0, 1, 0, 1, 1, 0, 0, 0, 0, 0, 0, 0, 0, 0, 0, 0, 0, 0, 0, 0, 0, 0,\n",
       "        0, 0, 0, 0, 0, 0, 0, 0, 0, 0, 0, 0, 0, 0, 0, 0, 0, 0, 0, 0, 0, 0,\n",
       "        0, 0, 0, 0, 0]),\n",
       " array([ 0.        ,  0.6122449 ,  1.2244898 ,  1.83673469,  2.44897959,\n",
       "         3.06122449,  3.67346939,  4.28571429,  4.89795918,  5.51020408,\n",
       "         6.12244898,  6.73469388,  7.34693878,  7.95918367,  8.57142857,\n",
       "         9.18367347,  9.79591837, 10.40816327, 11.02040816, 11.63265306,\n",
       "        12.24489796, 12.85714286, 13.46938776, 14.08163265, 14.69387755,\n",
       "        15.30612245, 15.91836735, 16.53061224, 17.14285714, 17.75510204,\n",
       "        18.36734694, 18.97959184, 19.59183673, 20.20408163, 20.81632653,\n",
       "        21.42857143, 22.04081633, 22.65306122, 23.26530612, 23.87755102,\n",
       "        24.48979592, 25.10204082, 25.71428571, 26.32653061, 26.93877551,\n",
       "        27.55102041, 28.16326531, 28.7755102 , 29.3877551 , 30.        ]))"
      ]
     },
     "execution_count": 15,
     "metadata": {},
     "output_type": "execute_result"
    }
   ],
   "source": [
    "np.histogram(np.array([1,2,3]),bins=np.linspace(0,30,50))"
   ]
  },
  {
   "cell_type": "code",
   "execution_count": 16,
   "metadata": {},
   "outputs": [],
   "source": [
    "import sunRay.plasmaFreq as pfreq\n",
    "\n",
    "import numpy as np \n",
    "import torch\n",
    "from sunRay.parameters import c_r\n",
    "from sunRay import plasmaFreq as pfreq\n",
    "from sunRay import densityModel as dm\n",
    "from scipy import integrate\n",
    "from scipy.optimize import curve_fit"
   ]
  },
  {
   "cell_type": "code",
   "execution_count": 17,
   "metadata": {},
   "outputs": [
    {
     "name": "stderr",
     "output_type": "stream",
     "text": [
      "/home/amax/anaconda3/lib/python3.7/site-packages/scipy/integrate/quadpack.py:385: IntegrationWarning: The maximum number of subdivisions (50) has been achieved.\n",
      "  If increasing the limit yields no improvement it is advised to analyze \n",
      "  the integrand in order to determine the difficulties.  If the position of a \n",
      "  local difficulty can be determined (singularity, discontinuity) one will \n",
      "  probably gain from splitting up the interval and calling the integrator \n",
      "  on the subranges.  Perhaps a special-purpose integrator should be used.\n",
      "  warnings.warn(msg, IntegrationWarning)\n"
     ]
    },
    {
     "data": {
      "text/plain": [
       "496.29489124890836"
      ]
     },
     "execution_count": 17,
     "metadata": {},
     "output_type": "execute_result"
    }
   ],
   "source": [
    "integrate.quad(lambda x: (1/(c_r*np.sqrt(1.0-\n",
    "                (pfreq.omega_pe_r_np(dm.leblanc98,x)/(omega0))**2)) ) ,1.4,215 )[0]"
   ]
  },
  {
   "cell_type": "code",
   "execution_count": 18,
   "metadata": {},
   "outputs": [
    {
     "data": {
      "text/plain": [
       "496.0237828757457"
      ]
     },
     "execution_count": 18,
     "metadata": {},
     "output_type": "execute_result"
    }
   ],
   "source": [
    "integrate.quad(lambda x: (1/(c_r*np.sqrt(1.0-\n",
    "                (pfreq.omega_pe_r_np(dm.leblanc98,x)/(omega0*1.5))**2)) ) ,1.4,215 )[0]"
   ]
  },
  {
   "cell_type": "code",
   "execution_count": 116,
   "metadata": {},
   "outputs": [],
   "source": []
  },
  {
   "cell_type": "code",
   "execution_count": 13,
   "metadata": {},
   "outputs": [
    {
     "data": {
      "text/plain": [
       "'001'"
      ]
     },
     "execution_count": 13,
     "metadata": {},
     "output_type": "execute_result"
    }
   ],
   "source": [
    "'1'.rjust(3,'0')"
   ]
  },
  {
   "cell_type": "code",
   "execution_count": 221,
   "metadata": {},
   "outputs": [
    {
     "data": {
      "text/plain": [
       "array([8.75033375e-01, 1.48617948e-08])"
      ]
     },
     "execution_count": 221,
     "metadata": {},
     "output_type": "execute_result"
    }
   ],
   "source": [
    "x_0,y_0=np.mean(r_vec0_rot,axis=1)[0:2]"
   ]
  },
  {
   "cell_type": "code",
   "execution_count": 198,
   "metadata": {},
   "outputs": [
    {
     "data": {
      "text/plain": [
       "array([[ 8.74904070e-01,  8.75072607e-01,  8.75059350e-01, ...,\n",
       "         8.75124239e-01,  8.74971592e-01,  8.75116448e-01],\n",
       "       [ 5.84294612e-05,  1.10376946e-04,  1.09373301e-04, ...,\n",
       "         4.66776619e-05, -1.26895538e-04,  6.18316844e-05],\n",
       "       [ 1.51561512e+00,  1.51553199e+00,  1.51559058e+00, ...,\n",
       "         1.51554513e+00,  1.51557091e+00,  1.51552940e+00]])"
      ]
     },
     "execution_count": 198,
     "metadata": {},
     "output_type": "execute_result"
    }
   ],
   "source": [
    "r_vec0_rot"
   ]
  },
  {
   "cell_type": "code",
   "execution_count": 292,
   "metadata": {},
   "outputs": [
    {
     "data": {
      "text/plain": [
       "2.321547698465644"
      ]
     },
     "execution_count": 292,
     "metadata": {},
     "output_type": "execute_result"
    }
   ],
   "source": [
    "1/c_r"
   ]
  },
  {
   "cell_type": "code",
   "execution_count": 310,
   "metadata": {},
   "outputs": [
    {
     "data": {
      "text/plain": [
       "0.9534883720930233"
      ]
     },
     "execution_count": 310,
     "metadata": {},
     "output_type": "execute_result"
    }
   ],
   "source": [
    "205/215"
   ]
  },
  {
   "cell_type": "code",
   "execution_count": null,
   "metadata": {},
   "outputs": [],
   "source": []
  }
 ],
 "metadata": {
  "kernelspec": {
   "display_name": "torch15",
   "language": "python",
   "name": "torch15"
  },
  "language_info": {
   "codemirror_mode": {
    "name": "ipython",
    "version": 3
   },
   "file_extension": ".py",
   "mimetype": "text/x-python",
   "name": "python",
   "nbconvert_exporter": "python",
   "pygments_lexer": "ipython3",
   "version": "3.7.4"
  }
 },
 "nbformat": 4,
 "nbformat_minor": 4
}
