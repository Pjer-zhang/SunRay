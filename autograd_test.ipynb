{
 "cells": [
  {
   "cell_type": "code",
   "execution_count": 1,
   "metadata": {},
   "outputs": [],
   "source": [
    "import numpy as np\n",
    "import matplotlib.pyplot as plt\n",
    "from sunRay import plasmaFreq as pfreq\n",
    "from sunRay import densityModel as dm\n",
    "from sunRay import scattering as scat \n",
    "import torch"
   ]
  },
  {
   "cell_type": "code",
   "execution_count": 2,
   "metadata": {},
   "outputs": [],
   "source": [
    "device = torch.device('cpu')\n",
    "r_vec0 = np.repeat([np.random.uniform(low=0.95,high=1.5,size=100000)],3,axis=0)"
   ]
  },
  {
   "cell_type": "code",
   "execution_count": 3,
   "metadata": {},
   "outputs": [],
   "source": [
    "\n",
    "@torch.enable_grad()\n",
    "def saito77(r):\n",
    "    return 1.36e6 * r.pow(-2.14) + 1.68e8 * r.pow(-6.13)\n",
    "\n",
    "@torch.enable_grad()\n",
    "def dsaito77_dr(r):\n",
    "    return - 2.9104e6* r.pow(-3.14) -(1.02984e9* r.pow(-7.13)) \n",
    "#y = 1.36e6 * rr.pow(-2.14) + 1.68e8 * rr.pow(-6.13)"
   ]
  },
  {
   "cell_type": "code",
   "execution_count": 4,
   "metadata": {},
   "outputs": [],
   "source": [
    "r_vec = torch.tensor(r_vec0)#.cuda().detach().requires_grad_()\n",
    "# initialize\n",
    "photon_N = 20\n",
    "start_r = 1.5; # in solar radii\n",
    "start_theta = 0.1; # in rad\n",
    "start_phi  = 0; # in rad\n",
    "\n",
    "f_ratio  = 1.05\n",
    "ne_r = dm.saito77 # use leblanc for this calculation \n",
    "\n",
    "\n",
    "freq0 = f_ratio * pfreq.omega_pe_r(ne_r,start_r)/(2*np.pi)\n"
   ]
  },
  {
   "cell_type": "code",
   "execution_count": 5,
   "metadata": {},
   "outputs": [],
   "source": [
    "dNe_dxyz = pfreq.dNe_dxyz(ne_r,r_vec.detach())"
   ]
  },
  {
   "cell_type": "code",
   "execution_count": 6,
   "metadata": {},
   "outputs": [],
   "source": [
    "rr = torch.sqrt(torch.sum(r_vec.pow(2),axis=0))"
   ]
  },
  {
   "cell_type": "code",
   "execution_count": 7,
   "metadata": {},
   "outputs": [
    {
     "name": "stdout",
     "output_type": "stream",
     "text": [
      "tensor([[1.0000, 1.0000, 1.0000,  ..., 1.0000, 1.0000, 1.0000],\n",
      "        [1.0000, 1.0000, 1.0000,  ..., 1.0000, 1.0000, 1.0000],\n",
      "        [1.0000, 1.0000, 1.0000,  ..., 1.0000, 1.0000, 1.0000]],\n",
      "       dtype=torch.float64)\n"
     ]
    }
   ],
   "source": [
    "print((dsaito77_dr(rr))*(r_vec[1,:])/rr/dNe_dxyz)"
   ]
  },
  {
   "cell_type": "code",
   "execution_count": 62,
   "metadata": {},
   "outputs": [
    {
     "data": {
      "text/plain": [
       "array([1.26636836, 0.99040712, 1.4914886 , ..., 1.1778026 , 0.963815  ,\n",
       "       1.42581471])"
      ]
     },
     "execution_count": 62,
     "metadata": {},
     "output_type": "execute_result"
    }
   ],
   "source": [
    "r_vec[0,:]"
   ]
  },
  {
   "cell_type": "code",
   "execution_count": null,
   "metadata": {},
   "outputs": [],
   "source": []
  },
  {
   "cell_type": "code",
   "execution_count": 63,
   "metadata": {},
   "outputs": [],
   "source": [
    "def saito77(r):\n",
    "    return 1.36e6 * r**(-2.14) + 1.68e8 * r**(-6.13)\n"
   ]
  },
  {
   "cell_type": "code",
   "execution_count": 12,
   "metadata": {},
   "outputs": [
    {
     "data": {
      "text/plain": [
       "2.283535784698808"
      ]
     },
     "execution_count": 12,
     "metadata": {},
     "output_type": "execute_result"
    }
   ],
   "source": [
    "1.3184*np.sqrt(3)"
   ]
  },
  {
   "cell_type": "code",
   "execution_count": null,
   "metadata": {},
   "outputs": [],
   "source": []
  }
 ],
 "metadata": {
  "kernelspec": {
   "display_name": "Python 3",
   "language": "python",
   "name": "python3"
  },
  "language_info": {
   "codemirror_mode": {
    "name": "ipython",
    "version": 3
   },
   "file_extension": ".py",
   "mimetype": "text/x-python",
   "name": "python",
   "nbconvert_exporter": "python",
   "pygments_lexer": "ipython3",
   "version": "3.7.3"
  }
 },
 "nbformat": 4,
 "nbformat_minor": 4
}
