{
 "cells": [
  {
   "cell_type": "code",
   "execution_count": 2,
   "metadata": {},
   "outputs": [],
   "source": [
    "import numpy as np\n",
    "import matplotlib.pyplot as plt\n",
    "from sunRay import plasmaFreq as pfreq\n",
    "from sunRay import densityModel as dm\n",
    "from sunRay import scattering as scat \n",
    "import torch"
   ]
  },
  {
   "cell_type": "code",
   "execution_count": 14,
   "metadata": {},
   "outputs": [],
   "source": [
    "device = torch.device('cuda')\n",
    "r_vec0 =(torch.randn(3,photon_N).to(device)+3)\n",
    "\n",
    "# np.repeat([np.random.uniform(low=0.95,high=1.5,size=100000)],3,axis=0)"
   ]
  },
  {
   "cell_type": "code",
   "execution_count": 15,
   "metadata": {},
   "outputs": [],
   "source": [
    "\n",
    "@torch.enable_grad()\n",
    "def saito77(r):\n",
    "    return 1.36e6 * r.pow(-2.14) + 1.68e8 * r.pow(-6.13)\n",
    "\n",
    "@torch.enable_grad()\n",
    "def dsaito77_dr(r):\n",
    "    return - 2.9104e6* r.pow(-3.14) -(1.02984e9* r.pow(-7.13)) \n",
    "#y = 1.36e6 * rr.pow(-2.14) + 1.68e8 * rr.pow(-6.13)"
   ]
  },
  {
   "cell_type": "code",
   "execution_count": 16,
   "metadata": {},
   "outputs": [
    {
     "name": "stderr",
     "output_type": "stream",
     "text": [
      "<ipython-input-16-37f585d4fe1b>:1: UserWarning: To copy construct from a tensor, it is recommended to use sourceTensor.clone().detach() or sourceTensor.clone().detach().requires_grad_(True), rather than torch.tensor(sourceTensor).\n",
      "  r_vec = torch.tensor(r_vec0).to(device)#.cuda().detach().requires_grad_()\n"
     ]
    }
   ],
   "source": [
    "r_vec = torch.tensor(r_vec0).to(device)#.cuda().detach().requires_grad_()\n",
    "# initialize\n",
    "photon_N = 20\n",
    "start_r = 1.5; # in solar radii\n",
    "start_theta = 0.1; # in rad\n",
    "start_phi  = 0; # in rad\n",
    "\n",
    "f_ratio  = 1.05\n",
    "ne_r = dm.saito77 # use leblanc for this calculation \n",
    "\n",
    "\n",
    "freq0 = f_ratio * pfreq.omega_pe_r(ne_r,start_r)/(2*np.pi)\n"
   ]
  },
  {
   "cell_type": "code",
   "execution_count": 17,
   "metadata": {},
   "outputs": [],
   "source": [
    "dNe_dxyz = pfreq.dNe_dxyz(ne_r,r_vec.detach())"
   ]
  },
  {
   "cell_type": "code",
   "execution_count": 18,
   "metadata": {},
   "outputs": [],
   "source": [
    "rr = torch.sqrt(torch.sum(r_vec.pow(2),axis=0))"
   ]
  },
  {
   "cell_type": "code",
   "execution_count": 23,
   "metadata": {},
   "outputs": [
    {
     "name": "stdout",
     "output_type": "stream",
     "text": [
      "tensor([[-5.9605e-08,  0.0000e+00, -5.9605e-08, -5.9605e-08, -1.1921e-07,\n",
      "          0.0000e+00, -1.1921e-07,  0.0000e+00, -5.9605e-08,  0.0000e+00,\n",
      "          0.0000e+00, -5.9605e-08,  0.0000e+00,  0.0000e+00, -5.9605e-08,\n",
      "         -1.7881e-07, -1.1921e-07,  1.1921e-07, -5.9605e-08,  1.1921e-07],\n",
      "        [ 0.0000e+00,  0.0000e+00, -5.9605e-08, -1.1921e-07, -5.9605e-08,\n",
      "          0.0000e+00, -1.1921e-07,  0.0000e+00, -5.9605e-08,  0.0000e+00,\n",
      "          0.0000e+00, -5.9605e-08,  0.0000e+00,  1.1921e-07, -1.1921e-07,\n",
      "         -1.1921e-07, -5.9605e-08,  0.0000e+00, -1.1921e-07,  0.0000e+00],\n",
      "        [-1.1921e-07,  0.0000e+00, -5.9605e-08, -5.9605e-08, -1.1921e-07,\n",
      "         -1.1921e-07, -5.9605e-08, -5.9605e-08,  0.0000e+00, -5.9605e-08,\n",
      "          0.0000e+00,  0.0000e+00, -5.9605e-08,  0.0000e+00, -5.9605e-08,\n",
      "         -5.9605e-08, -1.1921e-07,  1.1921e-07, -1.1921e-07,  1.1921e-07]],\n",
      "       device='cuda:0')\n"
     ]
    }
   ],
   "source": [
    "print((dsaito77_dr(rr))*(r_vec)/rr/dNe_dxyz-1)"
   ]
  },
  {
   "cell_type": "code",
   "execution_count": 9,
   "metadata": {},
   "outputs": [
    {
     "data": {
      "text/plain": [
       "tensor([1.0984, 1.4329, 1.4285,  ..., 1.4093, 1.3075, 1.3109], device='cuda:0',\n",
       "       dtype=torch.float64)"
      ]
     },
     "execution_count": 9,
     "metadata": {},
     "output_type": "execute_result"
    }
   ],
   "source": [
    "r_vec[0,:]"
   ]
  },
  {
   "cell_type": "code",
   "execution_count": null,
   "metadata": {},
   "outputs": [],
   "source": []
  },
  {
   "cell_type": "code",
   "execution_count": 63,
   "metadata": {},
   "outputs": [],
   "source": [
    "def saito77(r):\n",
    "    return 1.36e6 * r**(-2.14) + 1.68e8 * r**(-6.13)\n"
   ]
  },
  {
   "cell_type": "code",
   "execution_count": 12,
   "metadata": {},
   "outputs": [
    {
     "data": {
      "text/plain": [
       "2.283535784698808"
      ]
     },
     "execution_count": 12,
     "metadata": {},
     "output_type": "execute_result"
    }
   ],
   "source": [
    "1.3184*np.sqrt(3)"
   ]
  },
  {
   "cell_type": "code",
   "execution_count": 13,
   "metadata": {},
   "outputs": [
    {
     "data": {
      "text/plain": [
       "tensor([[1.6987, 1.7241, 3.3486, 1.9669, 3.0752, 4.0978, 2.7877, 3.4168, 1.5573,\n",
       "         2.4910, 2.6248, 2.5415, 2.6842, 2.4276, 3.6108, 5.1249, 3.2276, 0.1180,\n",
       "         3.3035, 4.2863],\n",
       "        [3.1252, 3.8563, 3.1029, 5.3392, 4.5693, 2.4286, 1.9171, 3.3208, 3.9071,\n",
       "         1.8948, 4.1933, 1.8399, 2.6077, 1.9134, 1.9850, 2.1407, 3.5537, 3.6621,\n",
       "         5.0335, 3.3095],\n",
       "        [4.1993, 2.7886, 1.3975, 2.3362, 2.2739, 3.9346, 2.5793, 3.8764, 3.3845,\n",
       "         3.7550, 3.0300, 1.5278, 3.5628, 3.0894, 2.5789, 2.8471, 4.5467, 3.3548,\n",
       "         1.4873, 3.1238]], device='cuda:0')"
      ]
     },
     "execution_count": 13,
     "metadata": {},
     "output_type": "execute_result"
    }
   ],
   "source": [
    "(torch.randn(3,photon_N).to(device)+3)"
   ]
  },
  {
   "cell_type": "code",
   "execution_count": null,
   "metadata": {},
   "outputs": [],
   "source": []
  }
 ],
 "metadata": {
  "kernelspec": {
   "display_name": "Python 3",
   "language": "python",
   "name": "python3"
  },
  "language_info": {
   "codemirror_mode": {
    "name": "ipython",
    "version": 3
   },
   "file_extension": ".py",
   "mimetype": "text/x-python",
   "name": "python",
   "nbconvert_exporter": "python",
   "pygments_lexer": "ipython3",
   "version": "3.8.2"
  }
 },
 "nbformat": 4,
 "nbformat_minor": 4
}
