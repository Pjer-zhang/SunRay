{
 "cells": [
  {
   "cell_type": "code",
   "execution_count": 1,
   "metadata": {},
   "outputs": [],
   "source": [
    "import numpy as np \n",
    "import matplotlib.pyplot as plt \n",
    "import sys\n",
    "sys.path.insert(1, '/fastdrive/sunray_data/src/')\n",
    "from sunRay.parameters import c,c_r,R_S  # physics parameters\n",
    "from scipy import integrate\n",
    "\n",
    "\n",
    "from matplotlib import rc\n",
    "rc('font',**{'family':'sans-serif','sans-serif':['Helvetica']})\n",
    "## for Palatino and other serif fonts use:\n",
    "#rc('font',**{'family':'serif','serif':['Palatino']})\n",
    "rc('text', usetex=True)"
   ]
  },
  {
   "cell_type": "code",
   "execution_count": 2,
   "metadata": {},
   "outputs": [
    {
     "data": {
      "text/plain": [
       "'3.3.4'"
      ]
     },
     "execution_count": 2,
     "metadata": {},
     "output_type": "execute_result"
    }
   ],
   "source": [
    "import matplotlib\n",
    "matplotlib.__version__"
   ]
  },
  {
   "cell_type": "code",
   "execution_count": 3,
   "metadata": {},
   "outputs": [],
   "source": [
    "\n",
    "%load_ext autoreload\n",
    "%autoreload 2"
   ]
  },
  {
   "cell_type": "code",
   "execution_count": 4,
   "metadata": {},
   "outputs": [],
   "source": [
    "\n",
    "#data_set  = np.load('../RUN3/funda/RUN_[eps0.27]_[alpha0.72143].lv1.npz')\n",
    "\n",
    "data_set  = np.load('/fastdrive/sunray_data/RUN4/datarun4/RUN_[eps0.35]_[alpha0.8]_R1.005_20210108_070736.lv1.npz')\n",
    "data_set  = np.load('/fastdrive/sunray_data/RUN3/funda/RUN_[eps0.27]_[alpha0.10371].lv1.npz')\n",
    "#data_set  = np.load('../RUN3/funda/RUN_[eps0.27]_[alpha0.614].lv1.npz')\n",
    "pat='funda'\n",
    "#data_set  = np.load('../RUN3/'+pat+'/RUN_[eps0.102]_[alpha0.15743].lv1.npz')\n",
    "#data_set  = np.load('../RUN3/'+pat+'/RUN_[eps0.354]_[alpha0.15743].lv1.npz')\n",
    "#data_set  = np.load('../RUN3/'+pat+'/RUN_[eps0.102]_[alpha0.802].lv1.npz')\n",
    "#data_set  = np.load('../RUN3/'+pat+'/RUN_[eps0.354]_[alpha0.802].lv1.npz')\n",
    "\n",
    "\n",
    "#data_set  = np.load('../RUN3/f105/RUN_[eps0.354]_[alpha0.15743].lv1.npz')\n",
    "\n",
    "#"
   ]
  },
  {
   "cell_type": "code",
   "execution_count": 5,
   "metadata": {},
   "outputs": [
    {
     "data": {
      "text/plain": [
       "['anis',\n",
       " 'asym',\n",
       " 'collect_N',\n",
       " 'epsilon',\n",
       " 'f_ratio',\n",
       " 'freq0',\n",
       " 'k_vec_0',\n",
       " 'k_vec_stat_avail',\n",
       " 'omega0',\n",
       " 'photon_N',\n",
       " 'r_vec_0',\n",
       " 'r_vec_stat_avail',\n",
       " 'start_phi',\n",
       " 'start_r',\n",
       " 'start_theta',\n",
       " 'steps_N',\n",
       " 't_reach_stat_avail',\n",
       " 'tau_stat_avail']"
      ]
     },
     "execution_count": 5,
     "metadata": {},
     "output_type": "execute_result"
    }
   ],
   "source": [
    "dir(data_set.f)"
   ]
  },
  {
   "cell_type": "code",
   "execution_count": 6,
   "metadata": {},
   "outputs": [],
   "source": [
    "# collect the data\n",
    "anis  = data_set.f.anis\n",
    "asym  = data_set.f.asym\n",
    "collect_N  = data_set.f.collect_N\n",
    "epsilon  = data_set.f.epsilon\n",
    "f_ratio  = data_set.f.f_ratio\n",
    "freq0  = data_set.f.freq0\n",
    "k_vec_0  = data_set.f.k_vec_0\n",
    "k_vec_stat_avail  = data_set.f.k_vec_stat_avail\n",
    "omega0  = data_set.f.omega0\n",
    "photon_N  = data_set.f.photon_N\n",
    "r_vec_0  = data_set.f.r_vec_0\n",
    "r_vec_stat_avail  = data_set.f.r_vec_stat_avail\n",
    "start_phi  = data_set.f.start_phi\n",
    "start_r  = data_set.f.start_r\n",
    "start_theta  = data_set.f.start_theta\n",
    "steps_N  = data_set.f.steps_N\n",
    "t_reach_stat_avail  = data_set.f.t_reach_stat_avail\n",
    "tau_stat_avail  = data_set.f.tau_stat_avail"
   ]
  },
  {
   "cell_type": "code",
   "execution_count": 7,
   "metadata": {},
   "outputs": [],
   "source": [
    "import sunRay.statisticalRays as raystat"
   ]
  },
  {
   "cell_type": "code",
   "execution_count": 12,
   "metadata": {},
   "outputs": [],
   "source": [
    "\n",
    "ang_rot = 45\n",
    "#ang_rot = 0\n",
    "\n",
    "# Important !!! rotate the initial point\n",
    "r_vec_rot,k_vec_rot = raystat.rotateCoordKX(\n",
    "    r_vec_stat_avail,k_vec_stat_avail,-ang_rot*np.pi/180)\n",
    "r_vec0_rot,k_vec0_rot = raystat.rotateCoordKX(\n",
    "    r_vec_0,k_vec_0,-ang_rot*np.pi/180)\n"
   ]
  },
  {
   "cell_type": "code",
   "execution_count": 13,
   "metadata": {},
   "outputs": [],
   "source": [
    "\n",
    "(x_im_stat,y_im_stat,t_reach_1au_stat,weights_stat,t_free_stat,idx_for_stat\n",
    "    )=raystat.ImgXYtEstimate(r_vec_rot,k_vec_rot,t_reach_stat_avail,\n",
    "            tau_stat_avail,r_vec0_rot, k_vec0_rot,num_t_bins=60)\n",
    "\n",
    "x_0,y_0=np.mean(r_vec0_rot,axis=1)[0:2]\n"
   ]
  },
  {
   "cell_type": "code",
   "execution_count": 14,
   "metadata": {},
   "outputs": [
    {
     "data": {
      "text/plain": [
       "'/fastdrive/sunray_data/src'"
      ]
     },
     "execution_count": 14,
     "metadata": {},
     "output_type": "execute_result"
    }
   ],
   "source": [
    "pwd"
   ]
  },
  {
   "cell_type": "code",
   "execution_count": 15,
   "metadata": {},
   "outputs": [
    {
     "data": {
      "image/png": "[encoded data removed]",
      "text/plain": [
       "<Figure size 288x288 with 3 Axes>"
      ]
     },
     "metadata": {
      "needs_background": "light"
     },
     "output_type": "display_data"
    }
   ],
   "source": [
    "#hst = plt.hist2d(x_im_stat,y_im_stat,bins=[np.linspace(-2,2,100),np.linspace(-2,2,100)],weights=np.exp(-tau_stat))\n",
    "#plt.axis('equal')\n",
    "from sunRay.showPlot import XYDistributionImageHist\n",
    "\n",
    "x_0,y_0=np.mean(r_vec0_rot,axis=1)[0:2]\n",
    "\n",
    "fig,ax=XYDistributionImageHist(x_im_stat,y_im_stat,bins_data=np.linspace(-2.5,2.5,120)\n",
    "            ,weights_data=weights_stat)\n",
    "\n",
    "ax.plot(x_0,y_0,'+',color='C2',mew=2,markersize=8)\n",
    "\n",
    "fig.savefig('img/xydist.pdf')\n"
   ]
  },
  {
   "cell_type": "code",
   "execution_count": 16,
   "metadata": {
    "tags": []
   },
   "outputs": [
    {
     "name": "stderr",
     "output_type": "stream",
     "text": [
      "/home/amax/anaconda3/envs/torch15/lib/python3.8/site-packages/numpy/core/fromnumeric.py:3372: RuntimeWarning: Mean of empty slice.\n",
      "  return _methods._mean(a, axis=axis, dtype=dtype,\n",
      "/home/amax/anaconda3/envs/torch15/lib/python3.8/site-packages/numpy/core/_methods.py:170: RuntimeWarning: invalid value encountered in double_scalars\n",
      "  ret = ret.dtype.type(ret / rcount)\n"
     ]
    },
    {
     "name": "stdout",
     "output_type": "stream",
     "text": [
      "fit fail\n"
     ]
    },
    {
     "name": "stderr",
     "output_type": "stream",
     "text": [
      "findfont: Font family ['sans-serif'] not found. Falling back to DejaVu Sans.\n"
     ]
    },
    {
     "name": "stdout",
     "output_type": "stream",
     "text": [
      "fit fail\n",
      "Total duration : 0.2515114660803497\n",
      "Duration R/D : [0.10354 0.14798]\n",
      "Vx R/D : 0.41793 , 0.42459\n",
      "Vx R/D (c) : 0.97025 , 0.9857\n",
      "Vy R/D : 0.0221 , -0.06048\n",
      "Vy R/D (c) : 0.05131 , -0.1404\n",
      "ERx R/D : 0.2686 , 0.22161\n",
      "ERx R/D (Deg) : 0.14326 , 0.11819\n",
      "ERx R/D : 0.90752 , 0.91838\n",
      "ERx R/D (Deg) : 0.48401 , 0.4898\n",
      "Size X : 0.24417 , 0.26828\n",
      "Size X (Deg)0.13023 , 0.14308\n",
      "Size Y : 0.42466 , 0.53811\n",
      "Size Y (Deg)0.22649 , 0.28699\n",
      "Offset R/D  x: 0.125074 , 0.18137\n",
      "Offset R/D  y: 0.000835 , -0.002652\n",
      "Peak t :0.878655\n"
     ]
    },
    {
     "data": {
      "image/png": "[encoded data removed]",
      "text/plain": [
       "<Figure size 270x360 with 3 Axes>"
      ]
     },
     "metadata": {
      "needs_background": "light"
     },
     "output_type": "display_data"
    }
   ],
   "source": [
    "from sunRay.showPlot import XYVariationPlot,MuVariationPlot\n",
    "\n",
    "fig=XYVariationPlot(x_im_stat,y_im_stat,t_reach_1au_stat,weights_stat,num_t_bins = 140,x_0=x_0,y_0=y_0,offset=True)\n",
    "fig[0].savefig('img/varXYt.pdf')\n",
    "\n",
    "#print the variation make a table #TODO\n",
    "# offset\n",
    "# 140 in paper"
   ]
  },
  {
   "cell_type": "code",
   "execution_count": 17,
   "metadata": {},
   "outputs": [
    {
     "name": "stdout",
     "output_type": "stream",
     "text": [
      "0.16594394882142494 -0.0004009104936042042 0.28369199414651486 0.5179930647821458\n"
     ]
    }
   ],
   "source": [
    "(xc,yc,sx,sy,err_xc,err_yc,err_sx,err_sy\n",
    "    ) = raystat.centroidXYFWHM(x_im_stat,y_im_stat,weights_stat)\n",
    "\n",
    "print(xc-x_0,yc-y_0,sx,sy)"
   ]
  },
  {
   "cell_type": "code",
   "execution_count": 66,
   "metadata": {},
   "outputs": [
    {
     "data": {
      "text/plain": [
       "118.34975050302252"
      ]
     },
     "execution_count": 66,
     "metadata": {},
     "output_type": "execute_result"
    }
   ],
   "source": [
    "np.mean(np.sqrt(np.sum(r_vec_stat_avail**2,axis=0)))"
   ]
  },
  {
   "cell_type": "code",
   "execution_count": 51,
   "metadata": {},
   "outputs": [
    {
     "data": {
      "image/png": "[encoded data removed]",
      "text/plain": [
       "<Figure size 309.6x206.4 with 2 Axes>"
      ]
     },
     "metadata": {
      "needs_background": "light"
     },
     "output_type": "display_data"
    }
   ],
   "source": [
    "rc('font',**{'family':'sans-serif','sans-serif':['Helvetica']})\n",
    "rc('text', usetex=True)\n",
    "\n",
    "(fig,ax1,ax2)=MuVariationPlot(k_vec_stat_avail,t_reach_stat_avail,\n",
    "                              np.exp(-tau_stat_avail),t_step = 0.05,\n",
    "                    num_t_bins=100,num_mu_bins=80)\n",
    "\n",
    "ax1.set_title(r'$f_0/f_{pe}=$'+str(np.round(f_ratio,3))+r'\\quad'+\n",
    "              r'$\\epsilon=$'+str(np.round(epsilon,3))+r'$\\quad \\alpha=$'+\n",
    "              str(np.round(anis,3)))\n",
    "\n",
    "fig.savefig('img/'+pat+'_eps'+str(np.round(epsilon,3))+'a'+str(np.round(anis,3))+'.pdf')"
   ]
  },
  {
   "cell_type": "code",
   "execution_count": 52,
   "metadata": {},
   "outputs": [],
   "source": [
    "mu_all = k_vec_stat_avail[2,:]/np.sqrt(np.sum(k_vec_stat_avail**2,axis=0))"
   ]
  },
  {
   "cell_type": "code",
   "execution_count": 63,
   "metadata": {},
   "outputs": [
    {
     "data": {
      "text/plain": [
       "(16,)"
      ]
     },
     "execution_count": 63,
     "metadata": {},
     "output_type": "execute_result"
    }
   ],
   "source": [
    "(np.sqrt(np.sum(r_vec_stat_avail**2,axis=0))).shape"
   ]
  },
  {
   "cell_type": "code",
   "execution_count": null,
   "metadata": {},
   "outputs": [],
   "source": []
  },
  {
   "cell_type": "code",
   "execution_count": null,
   "metadata": {},
   "outputs": [],
   "source": []
  },
  {
   "cell_type": "code",
   "execution_count": null,
   "metadata": {},
   "outputs": [],
   "source": []
  },
  {
   "cell_type": "code",
   "execution_count": null,
   "metadata": {},
   "outputs": [],
   "source": []
  },
  {
   "cell_type": "code",
   "execution_count": 65,
   "metadata": {},
   "outputs": [
    {
     "data": {
      "text/plain": [
       "1.942532516676863e-05"
      ]
     },
     "execution_count": 65,
     "metadata": {},
     "output_type": "execute_result"
    }
   ],
   "source": [
    "np.mean(np.exp(-tau_stat_avail))\n"
   ]
  },
  {
   "cell_type": "code",
   "execution_count": 28,
   "metadata": {},
   "outputs": [
    {
     "name": "stderr",
     "output_type": "stream",
     "text": [
      "/home/amax/anaconda3/envs/torch15/lib/python3.8/site-packages/numpy/core/fromnumeric.py:3372: RuntimeWarning: Mean of empty slice.\n",
      "  return _methods._mean(a, axis=axis, dtype=dtype,\n",
      "/home/amax/anaconda3/envs/torch15/lib/python3.8/site-packages/numpy/core/_methods.py:170: RuntimeWarning: invalid value encountered in double_scalars\n",
      "  ret = ret.dtype.type(ret / rcount)\n",
      "/home/amax/anaconda3/envs/torch15/lib/python3.8/site-packages/numpy/core/fromnumeric.py:3372: RuntimeWarning: Mean of empty slice.\n",
      "  return _methods._mean(a, axis=axis, dtype=dtype,\n",
      "/home/amax/anaconda3/envs/torch15/lib/python3.8/site-packages/numpy/core/_methods.py:170: RuntimeWarning: invalid value encountered in double_scalars\n",
      "  ret = ret.dtype.type(ret / rcount)\n",
      "/home/amax/anaconda3/envs/torch15/lib/python3.8/site-packages/numpy/core/fromnumeric.py:3372: RuntimeWarning: Mean of empty slice.\n",
      "  return _methods._mean(a, axis=axis, dtype=dtype,\n",
      "/home/amax/anaconda3/envs/torch15/lib/python3.8/site-packages/numpy/core/_methods.py:170: RuntimeWarning: invalid value encountered in double_scalars\n",
      "  ret = ret.dtype.type(ret / rcount)\n",
      "/home/amax/anaconda3/envs/torch15/lib/python3.8/site-packages/numpy/core/fromnumeric.py:3372: RuntimeWarning: Mean of empty slice.\n",
      "  return _methods._mean(a, axis=axis, dtype=dtype,\n",
      "/home/amax/anaconda3/envs/torch15/lib/python3.8/site-packages/numpy/core/_methods.py:170: RuntimeWarning: invalid value encountered in double_scalars\n",
      "  ret = ret.dtype.type(ret / rcount)\n",
      "/home/amax/anaconda3/envs/torch15/lib/python3.8/site-packages/numpy/core/fromnumeric.py:3372: RuntimeWarning: Mean of empty slice.\n",
      "  return _methods._mean(a, axis=axis, dtype=dtype,\n",
      "/home/amax/anaconda3/envs/torch15/lib/python3.8/site-packages/numpy/core/_methods.py:170: RuntimeWarning: invalid value encountered in double_scalars\n",
      "  ret = ret.dtype.type(ret / rcount)\n",
      "/home/amax/anaconda3/envs/torch15/lib/python3.8/site-packages/numpy/core/fromnumeric.py:3372: RuntimeWarning: Mean of empty slice.\n",
      "  return _methods._mean(a, axis=axis, dtype=dtype,\n",
      "/home/amax/anaconda3/envs/torch15/lib/python3.8/site-packages/numpy/core/_methods.py:170: RuntimeWarning: invalid value encountered in double_scalars\n",
      "  ret = ret.dtype.type(ret / rcount)\n",
      "/home/amax/anaconda3/envs/torch15/lib/python3.8/site-packages/numpy/core/fromnumeric.py:3372: RuntimeWarning: Mean of empty slice.\n",
      "  return _methods._mean(a, axis=axis, dtype=dtype,\n",
      "/home/amax/anaconda3/envs/torch15/lib/python3.8/site-packages/numpy/core/_methods.py:170: RuntimeWarning: invalid value encountered in double_scalars\n",
      "  ret = ret.dtype.type(ret / rcount)\n"
     ]
    },
    {
     "data": {
      "text/plain": [
       "<Figure size 432x288 with 0 Axes>"
      ]
     },
     "metadata": {},
     "output_type": "display_data"
    }
   ],
   "source": [
    "# make a movie\n",
    "if True:\n",
    "    from sunRay import showPlot as sp\n",
    "    x0,y0=np.mean(r_vec0_rot,axis=1)[0],np.mean(r_vec0_rot,axis=1)[1]\n",
    "    fr_cur=sp.MovieVariationXY(x_im_stat,y_im_stat,t_reach_1au_stat,weights_stat,t_step = 0.02,\n",
    "                               num_t_bins=-1,xlim=[0,2],ylim=[-1,1],x_0=x0,y_0=y0,\n",
    "                               title_this=r'$f_0/f_{pe}='+str(np.round(f_ratio,3))+r'$\\quad'+\n",
    "                  r'$\\epsilon='+str(np.round(epsilon,3))+r'\\quad \\alpha='+\n",
    "                  str(np.round(anis,3))+r'\\quad\\theta_0='+str(np.round(ang_rot,3))+'$',\n",
    "                               orintation=0,dpi=300,save_dir = 'moviedir/hori/')\n",
    "    #plt.gca().set_clim([0,1])\n",
    "    #fr_cur.savefig('test_movie.png')"
   ]
  },
  {
   "cell_type": "code",
   "execution_count": 24,
   "metadata": {},
   "outputs": [],
   "source": [
    "plt.close()"
   ]
  },
  {
   "cell_type": "code",
   "execution_count": 18,
   "metadata": {},
   "outputs": [
    {
     "data": {
      "text/plain": [
       "array([16.97647389, 16.9765446 , 16.9765167 , ..., 16.97661518,\n",
       "       16.97659707, 16.97653564])"
      ]
     },
     "execution_count": 18,
     "metadata": {},
     "output_type": "execute_result"
    }
   ],
   "source": [
    "np.sqrt(np.sum(r_vec_stat_avail**2,axis=0))"
   ]
  },
  {
   "cell_type": "code",
   "execution_count": 19,
   "metadata": {},
   "outputs": [
    {
     "data": {
      "text/plain": [
       "3"
      ]
     },
     "execution_count": 19,
     "metadata": {},
     "output_type": "execute_result"
    }
   ],
   "source": [
    "k_vec_stat_avail.shape[0]"
   ]
  },
  {
   "cell_type": "code",
   "execution_count": 20,
   "metadata": {},
   "outputs": [
    {
     "data": {
      "text/plain": [
       "(array([0, 1, 0, 1, 1, 0, 0, 0, 0, 0, 0, 0, 0, 0, 0, 0, 0, 0, 0, 0, 0, 0,\n",
       "        0, 0, 0, 0, 0, 0, 0, 0, 0, 0, 0, 0, 0, 0, 0, 0, 0, 0, 0, 0, 0, 0,\n",
       "        0, 0, 0, 0, 0]),\n",
       " array([ 0.        ,  0.6122449 ,  1.2244898 ,  1.83673469,  2.44897959,\n",
       "         3.06122449,  3.67346939,  4.28571429,  4.89795918,  5.51020408,\n",
       "         6.12244898,  6.73469388,  7.34693878,  7.95918367,  8.57142857,\n",
       "         9.18367347,  9.79591837, 10.40816327, 11.02040816, 11.63265306,\n",
       "        12.24489796, 12.85714286, 13.46938776, 14.08163265, 14.69387755,\n",
       "        15.30612245, 15.91836735, 16.53061224, 17.14285714, 17.75510204,\n",
       "        18.36734694, 18.97959184, 19.59183673, 20.20408163, 20.81632653,\n",
       "        21.42857143, 22.04081633, 22.65306122, 23.26530612, 23.87755102,\n",
       "        24.48979592, 25.10204082, 25.71428571, 26.32653061, 26.93877551,\n",
       "        27.55102041, 28.16326531, 28.7755102 , 29.3877551 , 30.        ]))"
      ]
     },
     "execution_count": 20,
     "metadata": {},
     "output_type": "execute_result"
    }
   ],
   "source": [
    "np.histogram(np.array([1,2,3]),bins=np.linspace(0,30,50))"
   ]
  },
  {
   "cell_type": "code",
   "execution_count": 21,
   "metadata": {},
   "outputs": [],
   "source": [
    "import sunRay.plasmaFreq as pfreq\n",
    "\n",
    "import numpy as np \n",
    "import torch\n",
    "from sunRay.parameters import c_r\n",
    "from sunRay import plasmaFreq as pfreq\n",
    "from sunRay import densityModel as dm\n",
    "from scipy import integrate\n",
    "from scipy.optimize import curve_fit"
   ]
  },
  {
   "cell_type": "code",
   "execution_count": 22,
   "metadata": {},
   "outputs": [
    {
     "data": {
      "text/plain": [
       "496.296688385845"
      ]
     },
     "execution_count": 22,
     "metadata": {},
     "output_type": "execute_result"
    }
   ],
   "source": [
    "integrate.quad(lambda x: (1/(c_r*np.sqrt(1.0-\n",
    "                (pfreq.omega_pe_r_np(dm.leblanc98,x)/(omega0))**2)) ) ,1.4,215 )[0]"
   ]
  },
  {
   "cell_type": "code",
   "execution_count": 23,
   "metadata": {},
   "outputs": [
    {
     "data": {
      "text/plain": [
       "496.0241876873643"
      ]
     },
     "execution_count": 23,
     "metadata": {},
     "output_type": "execute_result"
    }
   ],
   "source": [
    "integrate.quad(lambda x: (1/(c_r*np.sqrt(1.0-\n",
    "                (pfreq.omega_pe_r_np(dm.leblanc98,x)/(omega0*1.5))**2)) ) ,1.4,215 )[0]"
   ]
  },
  {
   "cell_type": "code",
   "execution_count": 24,
   "metadata": {},
   "outputs": [
    {
     "data": {
      "text/plain": [
       "'3.3.4'"
      ]
     },
     "execution_count": 24,
     "metadata": {},
     "output_type": "execute_result"
    }
   ],
   "source": [
    "import matplotlib\n",
    "matplotlib.__version__"
   ]
  },
  {
   "cell_type": "code",
   "execution_count": 13,
   "metadata": {},
   "outputs": [
    {
     "data": {
      "text/plain": [
       "'001'"
      ]
     },
     "execution_count": 13,
     "metadata": {},
     "output_type": "execute_result"
    }
   ],
   "source": [
    "'1'.rjust(3,'0')"
   ]
  },
  {
   "cell_type": "code",
   "execution_count": 221,
   "metadata": {},
   "outputs": [
    {
     "data": {
      "text/plain": [
       "array([8.75033375e-01, 1.48617948e-08])"
      ]
     },
     "execution_count": 221,
     "metadata": {},
     "output_type": "execute_result"
    }
   ],
   "source": [
    "x_0,y_0=np.mean(r_vec0_rot,axis=1)[0:2]"
   ]
  },
  {
   "cell_type": "code",
   "execution_count": 198,
   "metadata": {},
   "outputs": [
    {
     "data": {
      "text/plain": [
       "array([[ 8.74904070e-01,  8.75072607e-01,  8.75059350e-01, ...,\n",
       "         8.75124239e-01,  8.74971592e-01,  8.75116448e-01],\n",
       "       [ 5.84294612e-05,  1.10376946e-04,  1.09373301e-04, ...,\n",
       "         4.66776619e-05, -1.26895538e-04,  6.18316844e-05],\n",
       "       [ 1.51561512e+00,  1.51553199e+00,  1.51559058e+00, ...,\n",
       "         1.51554513e+00,  1.51557091e+00,  1.51552940e+00]])"
      ]
     },
     "execution_count": 198,
     "metadata": {},
     "output_type": "execute_result"
    }
   ],
   "source": [
    "r_vec0_rot"
   ]
  },
  {
   "cell_type": "code",
   "execution_count": 292,
   "metadata": {},
   "outputs": [
    {
     "data": {
      "text/plain": [
       "2.321547698465644"
      ]
     },
     "execution_count": 292,
     "metadata": {},
     "output_type": "execute_result"
    }
   ],
   "source": [
    "1/c_r"
   ]
  },
  {
   "cell_type": "code",
   "execution_count": 310,
   "metadata": {},
   "outputs": [
    {
     "data": {
      "text/plain": [
       "0.9534883720930233"
      ]
     },
     "execution_count": 310,
     "metadata": {},
     "output_type": "execute_result"
    }
   ],
   "source": [
    "205/215"
   ]
  },
  {
   "cell_type": "code",
   "execution_count": 9,
   "metadata": {},
   "outputs": [],
   "source": [
    "\n",
    "            flux_all = np.sum(weights_stat)/photon_N"
   ]
  },
  {
   "cell_type": "code",
   "execution_count": 10,
   "metadata": {},
   "outputs": [
    {
     "data": {
      "text/plain": [
       "0.023393052241406653"
      ]
     },
     "execution_count": 10,
     "metadata": {},
     "output_type": "execute_result"
    }
   ],
   "source": [
    "flux_all"
   ]
  },
  {
   "cell_type": "code",
   "execution_count": null,
   "metadata": {},
   "outputs": [],
   "source": []
  }
 ],
 "metadata": {
  "kernelspec": {
   "display_name": "Python 3",
   "language": "python",
   "name": "python3"
  },
  "language_info": {
   "codemirror_mode": {
    "name": "ipython",
    "version": 3
   },
   "file_extension": ".py",
   "mimetype": "text/x-python",
   "name": "python",
   "nbconvert_exporter": "python",
   "pygments_lexer": "ipython3",
   "version": "3.8.10"
  }
 },
 "nbformat": 4,
 "nbformat_minor": 4
}
