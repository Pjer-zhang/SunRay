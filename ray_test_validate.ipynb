{
 "cells": [
  {
   "cell_type": "code",
   "execution_count": 48,
   "metadata": {},
   "outputs": [
    {
     "name": "stdout",
     "output_type": "stream",
     "text": [
      "Warning: Cannot change to a different GUI toolkit: notebook. Using qt instead.\n",
      "Warning: Cannot change to a different GUI toolkit: notebook. Using qt instead.\n"
     ]
    }
   ],
   "source": [
    "import numpy as np\n",
    "import matplotlib.pyplot as plt\n",
    "import densityModel as dm\n",
    "import torch\n",
    "from mpl_toolkits.mplot3d import Axes3D\n",
    "import timeit\n",
    "\n",
    "%matplotlib notebook\n",
    "%matplotlib notebook"
   ]
  },
  {
   "cell_type": "code",
   "execution_count": 61,
   "metadata": {},
   "outputs": [
    {
     "name": "stdout",
     "output_type": "stream",
     "text": [
      "Frequency(MHz) : 50.734577172446606\n",
      "Omega(M rad/s) : 318.7747498558854\n"
     ]
    }
   ],
   "source": [
    "verbose = True\n",
    "validat = False\n",
    "savedata = True\n",
    "GPU_all = False\n",
    "\n",
    "if GPU_all:\n",
    "    torch.set_default_tensor_type('torch.cuda.FloatTensor') \n",
    "    # use gpu for everything\n",
    "else:\n",
    "    torch.set_default_tensor_type('torch.FloatTensor') \n",
    "    # use cpu for everything\n",
    "\n",
    "# initialize\n",
    "photon_N = 20\n",
    "steps_N = 2000\n",
    "t_delta = 0.001\n",
    "start_r = 1.5 # in solar radii\n",
    "start_theta = 0 # in rad\n",
    "start_phi  = 0 # in rad\n",
    "\n",
    "r_Sun = 6.96e10 # [cm]\n",
    "c = 2.998e10    # [cm s^(-1)]\n",
    "c_r=c/r_Sun     # [s^(-1)]\n",
    "\n",
    "f_ratio  = 2\n",
    "density_r = dm.leblanc98 # [cm^(-3)] \n",
    "# use saito77 for this calculation \n",
    "\n",
    "@torch.enable_grad()\n",
    "def omega_pe_r(r):\n",
    "    # Ne with plasma frequency density relationship\n",
    "    return 8.98e3* (density_r(r))**0.5 * 2 * np.pi\n",
    "\n",
    "@torch.enable_grad()\n",
    "def v_abs(v): # length of the vector\n",
    "    # for torch tensor in shape 3*N\n",
    "    return torch.sqrt(torch.sum(v.pow(2),axis=0))\n",
    "    \n",
    "\n",
    "freq0 = f_ratio * omega_pe_r(start_r)/(2*np.pi)\n",
    "\n",
    "if verbose:\n",
    "    print('Frequency(MHz) : '+str(freq0/1e6))\n",
    "    print('Omega(M rad/s) : '+str(f_ratio * omega_pe_r(start_r)/1e6))\n",
    "\n",
    "rxx = start_r * np.sin(start_theta) * np.cos(start_phi) * np.ones(photon_N)\n",
    "ryy = start_r * np.sin(start_theta) * np.sin(start_phi) * np.ones(photon_N)\n",
    "rzz = start_r * np.cos(start_theta) * np.ones(photon_N)\n",
    "# [r_sun]\n"
   ]
  },
  {
   "cell_type": "code",
   "execution_count": 62,
   "metadata": {},
   "outputs": [
    {
     "name": "stdout",
     "output_type": "stream",
     "text": [
      "Time:  2.1907707999999957\n"
     ]
    }
   ],
   "source": [
    "\n",
    "omega0 = freq0*(2*np.pi) # [Hz]\n",
    "kc0 = np.sqrt(omega0**2. - omega_pe_r(start_r)**2.)\n",
    "\n",
    "#k_mu0  = np.random.uniform(low=-0.999 ,high=1,size=photon_N) # k_z > 0 use [low = 0]\n",
    "k_mu0  = np.linspace(-0.999,1,photon_N)\n",
    "k_phi0 = np.random.uniform(low=-np.pi/1e7 ,high= np.pi/1e7, size=photon_N) \n",
    "\n",
    "kc_xx = kc0 * np.sqrt(1-k_mu0**2.) * np.cos(k_phi0)\n",
    "kc_yy = kc0 * np.sqrt(1-k_mu0**2.) * np.sin(k_phi0)\n",
    "kc_zz = kc0 * k_mu0\n",
    "\n",
    "kc_vec = torch.tensor(([kc_xx,kc_yy,kc_zz]))\n",
    "r_vec = torch.tensor(([rxx,ryy,rzz]),requires_grad=True)\n",
    "\n",
    "start = timeit.default_timer()\n",
    "\n",
    "data_saved = []\n",
    "\n",
    "for idx_t in np.arange(steps_N):\n",
    "    r_vec.requires_grad_(True)\n",
    "    rr = v_abs(r_vec)\n",
    "    omega_pe_xyz = omega_pe_r(rr)\n",
    "    omega_pe_xyz.backward(omega_pe_xyz*0+1) # for the gradient of omega\n",
    "    domega_pe_dxyz = r_vec.grad.data\n",
    "    \n",
    "    with torch.no_grad(): # update r and k without grad track\n",
    "        r_vec=r_vec.detach() # also detach main var r_vec\n",
    "        \n",
    "        if validat:\n",
    "            domega_pe_dxyz_explicit = ( 8.98e3/2/((density_r(rr).repeat(3,1))**(0.5))\n",
    "                * dm.dndr_leblanc98(rr).repeat(3,1)\n",
    "                * r_vec/rr.repeat(3,1) ) *2 *np.pi\n",
    "            print(\"Relative error : \" +str(torch.mean(torch.abs(domega_pe_dxyz_explicit-domega_pe_dxyz)/domega_pe_dxyz_explicit)))\n",
    "\n",
    "            \n",
    "        dr_dt  = c_r * kc_vec / omega0\n",
    "        dkc_dt = - omega_pe_xyz.repeat(3,1)/omega0 * domega_pe_dxyz /c_r \n",
    "\n",
    "        r_vec = r_vec + dr_dt*t_delta\n",
    "        kc_vec = kc_vec + dkc_dt*t_delta\n",
    "        \n",
    "        # to conserve the frequency\n",
    "        kc_vec = kc_vec * (torch.sqrt(omega0**2. - omega_pe_r(rr)**2.) / \n",
    "                           v_abs(kc_vec)).repeat(3,1)\n",
    "        \n",
    "        data_saved.append(np.array(r_vec))\n",
    "\n",
    "        \n",
    "\n",
    "stop = timeit.default_timer()\n",
    "data_saved = np.array(data_saved)\n",
    "print('Time: ', stop - start)  "
   ]
  },
  {
   "cell_type": "code",
   "execution_count": 63,
   "metadata": {},
   "outputs": [],
   "source": [
    "data_saved = np.array(data_saved)"
   ]
  },
  {
   "cell_type": "code",
   "execution_count": 64,
   "metadata": {},
   "outputs": [],
   "source": [
    "for ray_idx in np.arange(photon_N):\n",
    "    plt.plot(data_saved[:,0,ray_idx],data_saved[:,2,ray_idx],color='r')\n",
    "plt.gca().set_aspect('equal')"
   ]
  },
  {
   "cell_type": "code",
   "execution_count": 24,
   "metadata": {},
   "outputs": [],
   "source": [
    "a=plt.hist(kc_vec[2].cpu().detach(),bins=100)"
   ]
  },
  {
   "cell_type": "code",
   "execution_count": 25,
   "metadata": {},
   "outputs": [],
   "source": [
    "a=plt.hist(r_vec[2,:].cpu().detach(),bins=100)"
   ]
  },
  {
   "cell_type": "code",
   "execution_count": 25,
   "metadata": {},
   "outputs": [
    {
     "data": {
      "image/png": "[encoded data removed]",
      "text/plain": [
       "<Figure size 432x288 with 1 Axes>"
      ]
     },
     "metadata": {
      "needs_background": "light"
     },
     "output_type": "display_data"
    }
   ],
   "source": [
    "b=plt.hist(v_abs(dr_dt).cpu().detach(),100)"
   ]
  },
  {
   "cell_type": "code",
   "execution_count": null,
   "metadata": {},
   "outputs": [],
   "source": []
  },
  {
   "cell_type": "code",
   "execution_count": 26,
   "metadata": {},
   "outputs": [
    {
     "data": {
      "image/png": "[encoded data removed]",
      "text/plain": [
       "<Figure size 432x288 with 1 Axes>"
      ]
     },
     "metadata": {
      "needs_background": "light"
     },
     "output_type": "display_data"
    }
   ],
   "source": [
    "plt.scatter(r_vec.cpu()[0],r_vec.cpu()[2],marker='.')\n",
    "plt.gca().set_aspect('equal')"
   ]
  },
  {
   "cell_type": "code",
   "execution_count": 157,
   "metadata": {},
   "outputs": [
    {
     "data": {
      "text/plain": [
       "0.4307471264367816"
      ]
     },
     "execution_count": 157,
     "metadata": {},
     "output_type": "execute_result"
    }
   ],
   "source": [
    "c_r"
   ]
  },
  {
   "cell_type": "code",
   "execution_count": 158,
   "metadata": {},
   "outputs": [
    {
     "data": {
      "text/plain": [
       "tensor([  7.4160,  65.4785,   9.8064,  ...,      nan, 111.0654,      nan],\n",
       "       dtype=torch.float64)"
      ]
     },
     "execution_count": 158,
     "metadata": {},
     "output_type": "execute_result"
    }
   ],
   "source": [
    "dkc_dt[2,:]"
   ]
  },
  {
   "cell_type": "code",
   "execution_count": 146,
   "metadata": {},
   "outputs": [
    {
     "data": {
      "text/plain": [
       "array([6.05617334e+08, 6.05617334e+08, 6.05617334e+08, ...,\n",
       "       6.05617334e+08, 6.05617334e+08, 6.05617334e+08])"
      ]
     },
     "execution_count": 146,
     "metadata": {},
     "output_type": "execute_result"
    }
   ],
   "source": [
    "kc0"
   ]
  },
  {
   "cell_type": "code",
   "execution_count": null,
   "metadata": {},
   "outputs": [],
   "source": []
  }
 ],
 "metadata": {
  "kernelspec": {
   "display_name": "Python 3",
   "language": "python",
   "name": "python3"
  },
  "language_info": {
   "codemirror_mode": {
    "name": "ipython",
    "version": 3
   },
   "file_extension": ".py",
   "mimetype": "text/x-python",
   "name": "python",
   "nbconvert_exporter": "python",
   "pygments_lexer": "ipython3",
   "version": "3.7.3"
  }
 },
 "nbformat": 4,
 "nbformat_minor": 4
}
