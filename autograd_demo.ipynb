{
 "cells": [
  {
   "cell_type": "code",
   "execution_count": 1,
   "metadata": {},
   "outputs": [],
   "source": [
    "import torch # requires pytorch\n",
    "import numpy as np"
   ]
  },
  {
   "cell_type": "code",
   "execution_count": 2,
   "metadata": {},
   "outputs": [
    {
     "name": "stdout",
     "output_type": "stream",
     "text": [
      "[[1.37430678 1.44209216 1.09695969 1.09419111 1.1963041  1.46708376\n",
      "  1.16728937 1.07168517 1.16825825 1.39273738]\n",
      " [1.37430678 1.44209216 1.09695969 1.09419111 1.1963041  1.46708376\n",
      "  1.16728937 1.07168517 1.16825825 1.39273738]\n",
      " [1.37430678 1.44209216 1.09695969 1.09419111 1.1963041  1.46708376\n",
      "  1.16728937 1.07168517 1.16825825 1.39273738]]\n"
     ]
    }
   ],
   "source": [
    "device = torch.device('cuda')\n",
    "# an array of coordinates\n",
    "r_vec = np.repeat([np.random.uniform(low=0.95,high=1.5,size=10)],3,axis=0)\n",
    "print(r_vec)"
   ]
  },
  {
   "cell_type": "code",
   "execution_count": 3,
   "metadata": {},
   "outputs": [],
   "source": [
    "# mark the vector as require grad\n",
    "x = torch.tensor(r_vec, requires_grad=True)\n",
    "# scalar r\n",
    "rr = torch.sqrt(torch.sum(x.pow(2),axis=0))"
   ]
  },
  {
   "cell_type": "markdown",
   "metadata": {},
   "source": [
    "😂 For demostration, a function of the vector ```Ne```:\n",
    "$$f(\\vec{r}) =  r^{2.5}+r^{3.5}$$\n",
    "where:\n",
    "$$ \\vec{r} := (x,y,z) $$\n",
    "$$ r = \\sqrt{x^2+y^2+z^2} $$\n",
    "and its explicit derivation :\n",
    "\n",
    "$$\\frac{f(\\vec{r})}{\\rm{d} \\it \\vec{r}} = ( 2.5r^{1.5}+3.5r^{2.5}) \\hat{r}$$"
   ]
  },
  {
   "cell_type": "code",
   "execution_count": 4,
   "metadata": {},
   "outputs": [],
   "source": [
    "@torch.enable_grad()\n",
    "def Ne(r):\n",
    "    return r.pow(2.5)+ r.pow(3.5)\n",
    "\n",
    "@torch.enable_grad()\n",
    "def dNe_dr(r):\n",
    "    return 2.5*r.pow(1.5)+ 3.5*r.pow(2.5)"
   ]
  },
  {
   "cell_type": "code",
   "execution_count": 5,
   "metadata": {},
   "outputs": [],
   "source": [
    "# forward\n",
    "Ne_value=Ne(rr)\n",
    "# backward\n",
    "Ne_value.backward(torch.ones_like(Ne_value))"
   ]
  },
  {
   "cell_type": "code",
   "execution_count": 6,
   "metadata": {},
   "outputs": [
    {
     "name": "stdout",
     "output_type": "stream",
     "text": [
      "tensor([[22.9660, 25.6225, 13.8352, 13.7576, 16.7937, 26.6458, 15.8945, 13.1361,\n",
      "         15.9240, 23.6713],\n",
      "        [22.9660, 25.6225, 13.8352, 13.7576, 16.7937, 26.6458, 15.8945, 13.1361,\n",
      "         15.9240, 23.6713],\n",
      "        [22.9660, 25.6225, 13.8352, 13.7576, 16.7937, 26.6458, 15.8945, 13.1361,\n",
      "         15.9240, 23.6713]], dtype=torch.float64)\n"
     ]
    }
   ],
   "source": [
    "# autograd\n",
    "print(x.grad.data)"
   ]
  },
  {
   "cell_type": "code",
   "execution_count": 7,
   "metadata": {},
   "outputs": [
    {
     "name": "stdout",
     "output_type": "stream",
     "text": [
      "tensor([[1.0000, 1.0000, 1.0000, 1.0000, 1.0000, 1.0000, 1.0000, 1.0000, 1.0000,\n",
      "         1.0000],\n",
      "        [1.0000, 1.0000, 1.0000, 1.0000, 1.0000, 1.0000, 1.0000, 1.0000, 1.0000,\n",
      "         1.0000],\n",
      "        [1.0000, 1.0000, 1.0000, 1.0000, 1.0000, 1.0000, 1.0000, 1.0000, 1.0000,\n",
      "         1.0000]], dtype=torch.float64, grad_fn=<DivBackward0>)\n"
     ]
    }
   ],
   "source": [
    "# compare the value of explicit with autograd\n",
    "print((dNe_dr(rr))*(x[1,:])/rr/x.grad.data)"
   ]
  },
  {
   "cell_type": "code",
   "execution_count": null,
   "metadata": {},
   "outputs": [],
   "source": []
  }
 ],
 "metadata": {
  "kernelspec": {
   "display_name": "Python 3",
   "language": "python",
   "name": "python3"
  },
  "language_info": {
   "codemirror_mode": {
    "name": "ipython",
    "version": 3
   },
   "file_extension": ".py",
   "mimetype": "text/x-python",
   "name": "python",
   "nbconvert_exporter": "python",
   "pygments_lexer": "ipython3",
   "version": "3.8.10"
  }
 },
 "nbformat": 4,
 "nbformat_minor": 4
}
